{
 "cells": [
  {
   "cell_type": "code",
   "execution_count": 1,
   "metadata": {},
   "outputs": [
    {
     "name": "stderr",
     "output_type": "stream",
     "text": [
      "2024-03-20 15:46:18.516236: I external/local_tsl/tsl/cuda/cudart_stub.cc:32] Could not find cuda drivers on your machine, GPU will not be used.\n",
      "2024-03-20 15:46:18.528352: I external/local_tsl/tsl/cuda/cudart_stub.cc:32] Could not find cuda drivers on your machine, GPU will not be used.\n",
      "2024-03-20 15:46:18.649209: I tensorflow/core/platform/cpu_feature_guard.cc:210] This TensorFlow binary is optimized to use available CPU instructions in performance-critical operations.\n",
      "To enable the following instructions: AVX2 FMA, in other operations, rebuild TensorFlow with the appropriate compiler flags.\n",
      "2024-03-20 15:46:20.471461: W tensorflow/compiler/tf2tensorrt/utils/py_utils.cc:38] TF-TRT Warning: Could not find TensorRT\n"
     ]
    }
   ],
   "source": [
    "import csv\n",
    "import math\n",
    "import os\n",
    "import pickle\n",
    "import re\n",
    "\n",
    "import numpy as np\n",
    "import pandas as pd\n",
    "import joblib\n",
    "import seaborn as sns\n",
    "import tensorflow as tf\n",
    "from joblib import dump, load\n",
    "from collections import Counter\n",
    "from keras.layers import Dense, Dropout, LSTM\n",
    "from keras.models import Sequential\n",
    "from keras.optimizers import Adam\n",
    "from keras.callbacks import EarlyStopping, LearningRateScheduler\n",
    "from keras.regularizers import l2\n",
    "from keras.utils import to_categorical\n",
    "from sklearn.compose import ColumnTransformer\n",
    "from sklearn.model_selection import train_test_split\n",
    "from sklearn.preprocessing import LabelEncoder, OneHotEncoder, StandardScaler\n",
    "from sklearn.preprocessing import StandardScaler\n",
    "from tensorflow.keras.callbacks import EarlyStopping\n",
    "from tensorflow.keras.layers import Dense, Dropout, LSTM\n",
    "from tensorflow.keras.models import Sequential\n",
    "from tensorflow.keras.optimizers import Adam\n",
    "from tensorflow.keras.utils import to_categorical\n",
    "from tqdm import tqdm\n",
    "from keras.layers import LSTM, Dropout, Dense, Input\n",
    "import config\n",
    "from sklearn.model_selection import KFold\n",
    "from rich.console import Console\n",
    "from rich.table import Table\n",
    "from sklearn.metrics import accuracy_score, precision_score, recall_score, f1_score\n",
    "from keras.callbacks import ModelCheckpoint, TensorBoard\n",
    "from numpy import mean\n",
    "\n",
    "\n",
    "\n",
    "import ltn\n",
    "import wandb\n",
    "\n",
    "\n",
    "import numpy as np\n",
    "import tensorflow as tf\n",
    "import random\n",
    "import os\n",
    "\n",
    "def reset_random_seeds(seed_value=42):\n",
    "    tf.random.set_seed(seed_value)\n",
    "    np.random.seed(seed_value)\n",
    "    random.seed(seed_value)\n",
    "\n",
    "# Call this function at the beginning of your script\n",
    "reset_random_seeds()\n",
    "\n",
    "\n",
    "dataset_path = config.dataset_path\n",
    "PGB_path = config.PGB_path\n",
    "RGB_path = config.RGB_path\n",
    "csv_file = config.csv_file\n",
    "preprocessor_file = config.preprocessor_file\n",
    "train_path = config.train_path\n",
    "val_path = config.val_path\n",
    "chunk_size = config.chunk_size\n",
    "csv_directory = config.csv_directory\n",
    "data_root_folder = config.data_root_folder\n",
    "sequence_length = config.sequence_length\n",
    "sequences_directory = config.sequences_directory\n",
    "num_features = config.num_features\n",
    "processed_bases = config.processed_bases\n",
    "num_folds = config.num_folds\n",
    "batch_size = config.batch_size\n",
    "epochs = config.epochs\n",
    "patience = config.patience\n",
    "learning_rate = config.learning_rate\n",
    "n_splits = config.n_splits\n",
    "model_save_directory = config.model_save_directory\n",
    "l2_reg = config.l2_reg"
   ]
  },
  {
   "cell_type": "markdown",
   "metadata": {},
   "source": [
    "# Auxiliary functions"
   ]
  },
  {
   "cell_type": "code",
   "execution_count": 2,
   "metadata": {},
   "outputs": [],
   "source": [
    "def extract_fault(file_name):\n",
    "    fault_mapping = {\n",
    "        '0Health': 'HEA', '1Chipped': 'CTF', '2Miss': 'MTF', \n",
    "        '3Root': 'RCF', '4Surface': 'SWF', '5Ball': 'BWF', \n",
    "        '6Combination': 'CWF', '7Inner': 'IRF', '8Outer': 'ORF'\n",
    "    }\n",
    "    for key, value in fault_mapping.items():\n",
    "        if key in file_name:\n",
    "            return value\n",
    "    return None\n",
    "\n",
    "def make_csv_writer(csv_file):\n",
    "    csv_writer = csv.writer(csv_file)\n",
    "    csv_writer.writerow(['Channel1', 'Channel2', 'Channel3', 'Channel4', 'Channel5', 'Channel6', 'Channel7', 'Channel8', 'Fault'])\n",
    "    return csv_writer\n",
    "\n",
    "def generate_csv(output_directory, root_path, speed, experiment, files, num_train_samples, num_test_samples):\n",
    "    if not os.path.exists(output_directory):\n",
    "        os.makedirs(output_directory)\n",
    "    \n",
    "    train_filename_suffix = f\"{speed}_{experiment}_train\" if experiment else f\"{speed}_train\"\n",
    "    test_filename_suffix = f\"{speed}_{experiment}_test\" if experiment else f\"{speed}_test\"\n",
    "    \n",
    "    train_output_file_path = os.path.join(output_directory, f\"PGB_{train_filename_suffix}.csv\")\n",
    "    test_output_file_path = os.path.join(output_directory, f\"PGB_{test_filename_suffix}.csv\")\n",
    "    \n",
    "    with open(train_output_file_path, 'w', newline='', encoding='utf-8') as train_csvfile, \\\n",
    "        open(test_output_file_path, 'w', newline='', encoding='utf-8') as test_csvfile:\n",
    "        train_csv_writer = make_csv_writer(train_csvfile)\n",
    "        test_csv_writer = make_csv_writer(test_csvfile)\n",
    "        \n",
    "        for file in tqdm(files, desc=f\"Processing {speed} {experiment}\", unit=\"file\"):\n",
    "            fault_type = extract_fault(file)\n",
    "            file_path = os.path.join(root_path, file)\n",
    "            \n",
    "            total_rows = num_train_samples + num_test_samples\n",
    "            data = pd.read_csv(file_path, sep='\\t', header=None, encoding='ISO-8859-1', skiprows=1, nrows=total_rows)\n",
    "            train_samples, test_samples = data.iloc[:num_train_samples, :], data.iloc[num_train_samples:total_rows, :]\n",
    "            \n",
    "            for index, row in train_samples.iterrows():\n",
    "                train_csv_writer.writerow(row[:8].tolist() + [fault_type])\n",
    "            \n",
    "            for index, row in test_samples.iterrows():\n",
    "                test_csv_writer.writerow(row[:8].tolist() + [fault_type])\n",
    "\n",
    "def process_pgb_data(data_root_folder, csv_directory, num_train_samples, num_test_samples):\n",
    "    for root, dirs, files in os.walk(data_root_folder):\n",
    "        parts = root.split(os.sep)\n",
    "        if 'Variable_speed' in parts:\n",
    "            speed = \"Variable_speed\"\n",
    "            experiment_dir = parts[-1]  # Get the last part as the experiment name\n",
    "            exp_files = [f for f in os.listdir(root) if f.endswith('.txt')]\n",
    "            generate_csv(csv_directory, root, speed, experiment_dir, exp_files, num_train_samples, num_test_samples)\n",
    "        elif 'PGB' in parts and files:\n",
    "            speed = parts[-1]  # Last part of 'root' is the speed directory\n",
    "            generate_csv(csv_directory, root, speed, '', files, num_train_samples, num_test_samples)\n",
    "            \n",
    "            \n",
    "def overview_csv_files(directory):\n",
    "    data = []\n",
    "    all_faults = set()\n",
    "\n",
    "    for file in os.listdir(directory):\n",
    "        if file.endswith(\".csv\"):\n",
    "            file_path = os.path.join(directory, file)\n",
    "            df = pd.read_csv(file_path)\n",
    "\n",
    "            # Check if the CSV is empty (aside from the header)\n",
    "            if df.shape[0] == 0:\n",
    "                # Delete the empty CSV file\n",
    "                os.remove(file_path)\n",
    "                print(f\"Deleted empty file: {file_path}\")\n",
    "                continue  # Skip further processing for this file\n",
    "\n",
    "            num_samples = len(df)\n",
    "            fault_distribution = Counter(df['Fault'])\n",
    "            all_faults.update(fault_distribution.keys())\n",
    "            data.append({'File Name': file, 'Number of Samples': num_samples, **fault_distribution})\n",
    "\n",
    "    if not data:  # If no data has been gathered, exit the function\n",
    "        print(\"No data found.\")\n",
    "        return\n",
    "\n",
    "    overview_df = pd.DataFrame(data)\n",
    "    for fault in all_faults:\n",
    "        if fault not in overview_df.columns:\n",
    "            overview_df[fault] = 0\n",
    "\n",
    "    cols = ['File Name', 'Number of Samples'] + sorted(all_faults)\n",
    "    overview_df = overview_df[cols]\n",
    "    overview_df.fillna(0, inplace=True)\n",
    "    overview_df.loc[:, 'Number of Samples':] = overview_df.loc[:, 'Number of Samples':].astype(int)\n",
    "\n",
    "    overview_df = overview_df.sort_values(by='File Name')\n",
    "    print(overview_df.to_string(index=False))\n",
    "    \n",
    "def load_and_scale_data(csv_path, scaler=None, save_scaler_path=None):\n",
    "    \"\"\"\n",
    "    Loads data from a CSV file, scales the features (excluding the 'Fault' column), \n",
    "    and returns the scaled DataFrame. Optionally saves the scaler model.\n",
    "    \"\"\"\n",
    "    # Load the data\n",
    "    data = pd.read_csv(csv_path)\n",
    "    \n",
    "    # Separate features and target\n",
    "    features = data.columns[:-1]  # Assuming the last column is the target\n",
    "    X = data[features]\n",
    "    y = data['Fault']\n",
    "\n",
    "    # Apply scaling\n",
    "    if scaler is None:\n",
    "        scaler = StandardScaler()\n",
    "        X_scaled = scaler.fit_transform(X)\n",
    "        if save_scaler_path:\n",
    "            joblib.dump(scaler, save_scaler_path)\n",
    "    else:\n",
    "        X_scaled = scaler.transform(X)\n",
    "    \n",
    "    # Combine scaled features with target\n",
    "    scaled_df = pd.DataFrame(X_scaled, columns=features)\n",
    "    scaled_df['Fault'] = y\n",
    "    \n",
    "    return scaled_df\n",
    "\n",
    "def create_sequences(df, sequence_length):\n",
    "    sequences = []\n",
    "    labels = []\n",
    "    fault_types = df['Fault'].unique()\n",
    "\n",
    "    for fault in fault_types:\n",
    "        df_fault = df[df['Fault'] == fault]\n",
    "        X = df_fault.drop('Fault', axis=1).values\n",
    "        y = df_fault['Fault'].iloc[0]  # Updated to use iloc for consistency\n",
    "        \n",
    "        for i in range(len(df_fault) - sequence_length + 1):\n",
    "            sequences.append(X[i:i+sequence_length])\n",
    "            labels.append(fault)  # Keep the fault type as is\n",
    "    \n",
    "    return np.array(sequences), np.array(labels)\n",
    "\n",
    "\n",
    "def save_sequences(input_directory, output_directory, sequence_length):\n",
    "    \"\"\"\n",
    "    Generates sequences and saves them as NumPy files, one for sequences and one for labels.\n",
    "    \n",
    "    Parameters:\n",
    "    - input_directory: The directory with the original, scaled data files.\n",
    "    - output_directory: The directory where the NumPy sequence files will be saved.\n",
    "    - sequence_length: The number of consecutive samples in each sequence.\n",
    "    \"\"\"\n",
    "    if not os.path.exists(output_directory):\n",
    "        os.makedirs(output_directory)\n",
    "    \n",
    "    for file_name in tqdm(os.listdir(input_directory), desc=\"Generating sequences\"):\n",
    "        if file_name.endswith('.csv'):\n",
    "            df = pd.read_csv(os.path.join(input_directory, file_name))\n",
    "            sequences, labels = create_sequences(df, sequence_length)\n",
    "            \n",
    "            # File names for sequences and labels\n",
    "            base_name = os.path.splitext(file_name)[0]\n",
    "            sequences_file_path = os.path.join(output_directory, f\"{base_name}_sequences.npy\")\n",
    "            labels_file_path = os.path.join(output_directory, f\"{base_name}_labels.npy\")\n",
    "            \n",
    "            # Save sequences and labels\n",
    "            np.save(sequences_file_path, sequences)\n",
    "            np.save(labels_file_path, labels)\n",
    "            \n",
    "def extract_speed_from_filename(file_name):\n",
    "    \"\"\"\n",
    "    Extracts the speed from the filename.\n",
    "    Returns the numeric speed for fixed speeds, or -1 for variable speeds.\n",
    "    \"\"\"\n",
    "    fixed_speed_match = re.search(r\"PGB_(\\d+)_\", file_name)\n",
    "    if fixed_speed_match:\n",
    "        return int(fixed_speed_match.group(1))\n",
    "    variable_speed_match = re.search(r\"Variable_speed\", file_name)\n",
    "    if variable_speed_match:\n",
    "        return -1  # Special value for variable speeds\n",
    "    return None\n",
    "\n",
    "def add_speed_feature_and_save(input_directory, output_directory, sequence_length):\n",
    "    if not os.path.exists(output_directory):\n",
    "        os.makedirs(output_directory)\n",
    "    \n",
    "    for file_name in tqdm(os.listdir(input_directory), desc=\"Processing files\"):\n",
    "        if file_name.endswith('.csv'):\n",
    "            speed = extract_speed_from_filename(file_name)\n",
    "            df = pd.read_csv(os.path.join(input_directory, file_name))\n",
    "            df['Speed'] = speed  # Add speed as a new column\n",
    "            \n",
    "            sequences, labels = create_sequences(df, sequence_length)\n",
    "            \n",
    "            base_name = os.path.splitext(file_name)[0]\n",
    "            sequences_file_path = os.path.join(output_directory, f\"{base_name}_sequences.npy\")\n",
    "            labels_file_path = os.path.join(output_directory, f\"{base_name}_labels.npy\")\n",
    "            \n",
    "            np.save(sequences_file_path, sequences)\n",
    "            np.save(labels_file_path, labels)\n",
    "            \n",
    "def display_samples(sequences_file_path, labels_file_path, num_samples=1):\n",
    "    \"\"\"\n",
    "    Displays a specified number of samples from the sequences and labels .npy files.\n",
    "    \n",
    "    Parameters:\n",
    "    - sequences_file_path: Path to the .npy file containing sequences.\n",
    "    - labels_file_path: Path to the .npy file containing labels.\n",
    "    - num_samples: Number of samples to display. Default is 5.\n",
    "    \"\"\"\n",
    "    # Load the sequences and labels\n",
    "    sequences = np.load(sequences_file_path)\n",
    "    labels = np.load(labels_file_path)\n",
    "    \n",
    "    # Determine the number of samples to display (cannot exceed the length of the data)\n",
    "    num_samples = min(num_samples, len(sequences))\n",
    "    \n",
    "    # Display the specified number of samples\n",
    "    for i in range(num_samples):\n",
    "        print(f\"Sample {i+1}:\")\n",
    "        print(\"Sequence:\")\n",
    "        print(sequences[i])\n",
    "        print(\"Label:\")\n",
    "        print(labels[i])\n",
    "        print(\"-\" * 50)  # Separator for readability\n",
    "        \n",
    "def memmap_append_and_save(input_directory, output_directory, dataset_type, file_type):\n",
    "    # Update the output file path to indicate pickle format\n",
    "    output_file_path = os.path.join(output_directory, f\"{dataset_type}_merged_{file_type}.pkl\")\n",
    "\n",
    "    if not os.path.exists(output_directory):\n",
    "        os.makedirs(output_directory)\n",
    "\n",
    "    merged_data = None\n",
    "    current_size = 0\n",
    "\n",
    "    file_names = [fn for fn in os.listdir(input_directory) if fn.endswith(f'_{file_type}.npy') and dataset_type in fn]\n",
    "    for file_name in tqdm(file_names, desc=f\"Merging {dataset_type} {file_type}\"):\n",
    "        path = os.path.join(input_directory, file_name)\n",
    "        data = np.load(path)\n",
    "\n",
    "        # Adjust for both 1D and 2D+ data\n",
    "        new_shape = (current_size + data.shape[0],) + data.shape[1:] if len(data.shape) > 1 else (current_size + data.shape[0],)\n",
    "        if merged_data is None:\n",
    "            # Initially, directly use the loaded data\n",
    "            merged_data = data.copy()\n",
    "        else:\n",
    "            # Concatenate new data\n",
    "            merged_data = np.concatenate((merged_data, data), axis=0)\n",
    "        \n",
    "        current_size += data.shape[0]\n",
    "\n",
    "    # After processing all files, save the merged data using pickle\n",
    "    with open(output_file_path, 'wb') as f:\n",
    "        pickle.dump(merged_data, f, protocol=pickle.HIGHEST_PROTOCOL)\n",
    "    \n",
    "    print(f\"{dataset_type.capitalize()} {file_type} data merged and saved to {output_file_path} in pickle format\")\n",
    "\n",
    "def merge_npy_files_with_memmap_separated(input_directory, output_directory):\n",
    "    for dataset_type in ['train', 'test']:\n",
    "        for file_type in ['sequences', 'labels']:\n",
    "            memmap_append_and_save(input_directory, output_directory, dataset_type, file_type)\n",
    "            \n",
    "def kfold_cross_validation(X, y, num_folds=5):\n",
    "    input_shape = X.shape[1:]  # Assuming X is (num_samples, time_steps, features)\n",
    "    num_classes = y.shape[1]\n",
    "    kfold = KFold(n_splits=num_folds, shuffle=True, random_state=42)\n",
    "\n",
    "    fold_no = 1\n",
    "    for train, test in kfold.split(X, y):\n",
    "        print(f\"Training on fold {fold_no}...\")\n",
    "        \n",
    "        model = create_model(input_shape, num_classes, l2_reg=l2_reg)\n",
    "        lr_scheduler = LearningRateScheduler(lr_schedule, verbose=0)\n",
    "        early_stopping = EarlyStopping(monitor='val_loss', patience=50, restore_best_weights=True)\n",
    "        \n",
    "        model.fit(X[train], y[train], validation_data=(X[test], y[test]),\n",
    "                epochs=epochs, batch_size=batch_size, callbacks=[early_stopping, lr_scheduler], verbose=1)\n",
    "        \n",
    "        fold_no += 1\n",
    "        \n",
    "# version that takes speed by speed\n",
    "\n",
    "def lr_schedule(epoch, lr):\n",
    "    if epoch % 10 == 0 and epoch > 0:\n",
    "        return lr * 0.1\n",
    "    return lr\n",
    "\n",
    "def load_sequences(sequence_file_path, label_file_path):\n",
    "    sequences = np.load(sequence_file_path)\n",
    "    labels = np.load(label_file_path)\n",
    "    encoder = LabelEncoder()\n",
    "    labels_encoded = encoder.fit_transform(labels)\n",
    "    labels_onehot = to_categorical(labels_encoded)\n",
    "    return sequences, labels_onehot\n",
    "\n",
    "# def create_model(input_shape, num_classes):\n",
    "#     model = Sequential([\n",
    "#         LSTM(100, return_sequences=True, input_shape=input_shape),\n",
    "#         Dropout(0.2),\n",
    "#         LSTM(100),\n",
    "#         Dropout(0.2),\n",
    "#         Dense(100, activation='relu'),\n",
    "#         Dense(num_classes, activation='softmax')\n",
    "#     ])\n",
    "#     model.compile(optimizer=Adam(learning_rate=0.001), loss='categorical_crossentropy', metrics=['accuracy'])\n",
    "#     return model\n",
    "\n",
    "def create_model(input_shape, num_classes, l2_reg=0.001):\n",
    "    model = Sequential([\n",
    "        Input(shape=input_shape),\n",
    "        LSTM(256, return_sequences=True, kernel_regularizer=l2(l2_reg)),\n",
    "        Dropout(0.3),\n",
    "        LSTM(128, return_sequences=True, kernel_regularizer=l2(l2_reg)),\n",
    "        Dropout(0.3),\n",
    "        LSTM(64, kernel_regularizer=l2(l2_reg)),\n",
    "        Dropout(0.3),\n",
    "        Dense(128, activation='relu', kernel_regularizer=l2(l2_reg)),\n",
    "        Dropout(0.3),\n",
    "        Dense(64, activation='relu', kernel_regularizer=l2(l2_reg)),\n",
    "        Dropout(0.3),\n",
    "        Dense(num_classes, activation='softmax')\n",
    "    ])\n",
    "    model.compile(optimizer=Adam(learning_rate=learning_rate), loss='categorical_crossentropy', metrics=['accuracy'])\n",
    "    return model"
   ]
  },
  {
   "cell_type": "code",
   "execution_count": 12,
   "metadata": {},
   "outputs": [
    {
     "name": "stderr",
     "output_type": "stream",
     "text": [
      "Processing Variable_speed Variable_speed: 0file [00:00, ?file/s]\n",
      "Processing Variable_speed Experiment8: 100%|██████████| 9/9 [00:10<00:00,  1.12s/file]\n",
      "Processing Variable_speed Experiment4: 100%|██████████| 9/9 [00:10<00:00,  1.14s/file]\n",
      "Processing Variable_speed Experiment6: 100%|██████████| 9/9 [00:11<00:00,  1.27s/file]\n",
      "Processing Variable_speed Experiment2: 100%|██████████| 9/9 [00:08<00:00,  1.06file/s]\n",
      "Processing Variable_speed Experiment5: 100%|██████████| 9/9 [00:08<00:00,  1.06file/s]\n",
      "Processing Variable_speed Experiment1: 100%|██████████| 9/9 [00:09<00:00,  1.04s/file]\n",
      "Processing Variable_speed Experiment9: 100%|██████████| 9/9 [00:12<00:00,  1.34s/file]\n",
      "Processing Variable_speed Experiment7: 100%|██████████| 9/9 [00:10<00:00,  1.18s/file]\n",
      "Processing Variable_speed Experiment3: 100%|██████████| 9/9 [00:09<00:00,  1.03s/file]\n",
      "Processing Variable_speed Experiment10: 100%|██████████| 9/9 [00:07<00:00,  1.23file/s]\n",
      "Processing 40_0 : 100%|██████████| 9/9 [00:09<00:00,  1.07s/file]\n",
      "Processing 30_4 : 100%|██████████| 9/9 [00:08<00:00,  1.09file/s]\n",
      "Processing 30_3 : 100%|██████████| 9/9 [00:09<00:00,  1.01s/file]\n",
      "Processing 20_0 : 100%|██████████| 9/9 [00:09<00:00,  1.00s/file]\n",
      "Processing 30_5 : 100%|██████████| 9/9 [00:10<00:00,  1.14s/file]\n",
      "Processing 30_2 : 100%|██████████| 9/9 [00:08<00:00,  1.02file/s]\n",
      "Processing 50_0 : 100%|██████████| 9/9 [00:08<00:00,  1.08file/s]\n",
      "Processing 30_0 : 100%|██████████| 9/9 [00:10<00:00,  1.13s/file]\n",
      "Processing 30_1 : 100%|██████████| 9/9 [00:07<00:00,  1.23file/s]\n"
     ]
    },
    {
     "name": "stdout",
     "output_type": "stream",
     "text": [
      "Deleted empty file: /home/ubuntu/dds_paper/DDS_Paper/data/DDS_Data_SEU/data/csvs/PGB_Variable_speed_Variable_speed_train.csv\n",
      "Deleted empty file: /home/ubuntu/dds_paper/DDS_Paper/data/DDS_Data_SEU/data/csvs/PGB_Variable_speed_Variable_speed_test.csv\n",
      "                                File Name  Number of Samples   BWF   CTF   CWF   HEA   IRF   MTF   ORF   RCF   SWF\n",
      "                        PGB_20_0_test.csv              18000  2000  2000  2000  2000  2000  2000  2000  2000  2000\n",
      "                       PGB_20_0_train.csv              90000 10000 10000 10000 10000 10000 10000 10000 10000 10000\n",
      "                        PGB_30_0_test.csv              18000  2000  2000  2000  2000  2000  2000  2000  2000  2000\n",
      "                       PGB_30_0_train.csv              90000 10000 10000 10000 10000 10000 10000 10000 10000 10000\n",
      "                        PGB_30_1_test.csv              18000  2000  2000  2000  2000  2000  2000  2000  2000  2000\n",
      "                       PGB_30_1_train.csv              90000 10000 10000 10000 10000 10000 10000 10000 10000 10000\n",
      "                        PGB_30_2_test.csv              18000  2000  2000  2000  2000  2000  2000  2000  2000  2000\n",
      "                       PGB_30_2_train.csv              90000 10000 10000 10000 10000 10000 10000 10000 10000 10000\n",
      "                        PGB_30_3_test.csv              18000  2000  2000  2000  2000  2000  2000  2000  2000  2000\n",
      "                       PGB_30_3_train.csv              90000 10000 10000 10000 10000 10000 10000 10000 10000 10000\n",
      "                        PGB_30_4_test.csv              18000  2000  2000  2000  2000  2000  2000  2000  2000  2000\n",
      "                       PGB_30_4_train.csv              90000 10000 10000 10000 10000 10000 10000 10000 10000 10000\n",
      "                        PGB_30_5_test.csv              18000  2000  2000  2000  2000  2000  2000  2000  2000  2000\n",
      "                       PGB_30_5_train.csv              90000 10000 10000 10000 10000 10000 10000 10000 10000 10000\n",
      "                        PGB_40_0_test.csv              18000  2000  2000  2000  2000  2000  2000  2000  2000  2000\n",
      "                       PGB_40_0_train.csv              90000 10000 10000 10000 10000 10000 10000 10000 10000 10000\n",
      "                        PGB_50_0_test.csv              18000  2000  2000  2000  2000  2000  2000  2000  2000  2000\n",
      "                       PGB_50_0_train.csv              90000 10000 10000 10000 10000 10000 10000 10000 10000 10000\n",
      " PGB_Variable_speed_Experiment10_test.csv              18000  2000  2000  2000  2000  2000  2000  2000  2000  2000\n",
      "PGB_Variable_speed_Experiment10_train.csv              90000 10000 10000 10000 10000 10000 10000 10000 10000 10000\n",
      "  PGB_Variable_speed_Experiment1_test.csv              18000  2000  2000  2000  2000  2000  2000  2000  2000  2000\n",
      " PGB_Variable_speed_Experiment1_train.csv              90000 10000 10000 10000 10000 10000 10000 10000 10000 10000\n",
      "  PGB_Variable_speed_Experiment2_test.csv              18000  2000  2000  2000  2000  2000  2000  2000  2000  2000\n",
      " PGB_Variable_speed_Experiment2_train.csv              90000 10000 10000 10000 10000 10000 10000 10000 10000 10000\n",
      "  PGB_Variable_speed_Experiment3_test.csv              18000  2000  2000  2000  2000  2000  2000  2000  2000  2000\n",
      " PGB_Variable_speed_Experiment3_train.csv              90000 10000 10000 10000 10000 10000 10000 10000 10000 10000\n",
      "  PGB_Variable_speed_Experiment4_test.csv              18000  2000  2000  2000  2000  2000  2000  2000  2000  2000\n",
      " PGB_Variable_speed_Experiment4_train.csv              90000 10000 10000 10000 10000 10000 10000 10000 10000 10000\n",
      "  PGB_Variable_speed_Experiment5_test.csv              18000  2000  2000  2000  2000  2000  2000  2000  2000  2000\n",
      " PGB_Variable_speed_Experiment5_train.csv              90000 10000 10000 10000 10000 10000 10000 10000 10000 10000\n",
      "  PGB_Variable_speed_Experiment6_test.csv              18000  2000  2000  2000  2000  2000  2000  2000  2000  2000\n",
      " PGB_Variable_speed_Experiment6_train.csv              90000 10000 10000 10000 10000 10000 10000 10000 10000 10000\n",
      "  PGB_Variable_speed_Experiment7_test.csv              18000  2000  2000  2000  2000  2000  2000  2000  2000  2000\n",
      " PGB_Variable_speed_Experiment7_train.csv              90000 10000 10000 10000 10000 10000 10000 10000 10000 10000\n",
      "  PGB_Variable_speed_Experiment8_test.csv              18000  2000  2000  2000  2000  2000  2000  2000  2000  2000\n",
      " PGB_Variable_speed_Experiment8_train.csv              90000 10000 10000 10000 10000 10000 10000 10000 10000 10000\n",
      "  PGB_Variable_speed_Experiment9_test.csv              18000  2000  2000  2000  2000  2000  2000  2000  2000  2000\n",
      " PGB_Variable_speed_Experiment9_train.csv              90000 10000 10000 10000 10000 10000 10000 10000 10000 10000\n"
     ]
    }
   ],
   "source": [
    "process_pgb_data(data_root_folder, csv_directory, 10000, 2000)\n",
    "overview_csv_files(csv_directory)"
   ]
  },
  {
   "cell_type": "code",
   "execution_count": 13,
   "metadata": {},
   "outputs": [
    {
     "name": "stderr",
     "output_type": "stream",
     "text": [
      "Generating sequences: 100%|██████████| 58/58 [00:16<00:00,  3.59it/s]\n"
     ]
    }
   ],
   "source": [
    "# scale data\n",
    "\n",
    "# Iterate over your dataset files\n",
    "for root, dirs, files in os.walk(csv_directory):\n",
    "    for file in sorted(files):\n",
    "        if file.endswith('.csv') and not file.endswith('_scaled.csv'):  # Process only unscaled .csv files\n",
    "            csv_path = os.path.join(root, file)\n",
    "            if 'train' in file:\n",
    "                # Handle training data\n",
    "                scaler_path = os.path.join(root, 'scaler_' + file.replace('.csv', '.joblib'))\n",
    "                scaled_train_df = load_and_scale_data(csv_path, save_scaler_path=scaler_path)\n",
    "                # Save the scaled training data\n",
    "                scaled_csv_path = csv_path.replace('.csv', '_scaled.csv')\n",
    "                scaled_train_df.to_csv(scaled_csv_path, index=False)\n",
    "            elif 'test' in file:\n",
    "                # Handle testing data\n",
    "                scaler_path = os.path.join(root, 'scaler_' + file.replace('_test.csv', '_train.joblib'))\n",
    "                scaler = joblib.load(scaler_path) if os.path.exists(scaler_path) else None\n",
    "                scaled_test_df = load_and_scale_data(csv_path, scaler=scaler)\n",
    "                # Save the scaled testing data\n",
    "                scaled_csv_path = csv_path.replace('.csv', '_scaled.csv')\n",
    "                scaled_test_df.to_csv(scaled_csv_path, index=False)\n",
    "\n",
    "            # Delete the original unscaled .csv file\n",
    "            os.remove(csv_path)\n",
    "            \n",
    "#create sequences\n",
    "save_sequences(csv_directory, sequences_directory, sequence_length)\n",
    "\n",
    "#add_speed_feature_and_save(csv_directory, sequences_directory, sequence_length)\n",
    "\n",
    "#merge_npy_files_with_memmap_separated(sequences_directory, sequences_directory)"
   ]
  },
  {
   "cell_type": "markdown",
   "metadata": {},
   "source": [
    "# Training the model"
   ]
  },
  {
   "cell_type": "code",
   "execution_count": 3,
   "metadata": {},
   "outputs": [
    {
     "data": {
      "text/html": [
       "<pre style=\"white-space:pre;overflow-x:auto;line-height:normal;font-family:Menlo,'DejaVu Sans Mono',consolas,'Courier New',monospace\"><span style=\"color: #008000; text-decoration-color: #008000; font-weight: bold\">Training fold </span><span style=\"color: #008000; text-decoration-color: #008000; font-weight: bold\">1</span><span style=\"color: #008000; text-decoration-color: #008000; font-weight: bold\">/</span><span style=\"color: #008000; text-decoration-color: #008000; font-weight: bold\">4</span><span style=\"color: #008000; text-decoration-color: #008000; font-weight: bold\"> for PGB_20_0</span>\n",
       "</pre>\n"
      ],
      "text/plain": [
       "\u001b[1;32mTraining fold \u001b[0m\u001b[1;32m1\u001b[0m\u001b[1;32m/\u001b[0m\u001b[1;32m4\u001b[0m\u001b[1;32m for PGB_20_0\u001b[0m\n"
      ]
     },
     "metadata": {},
     "output_type": "display_data"
    },
    {
     "name": "stdout",
     "output_type": "stream",
     "text": [
      "Epoch 1/5\n",
      "\u001b[1m158/158\u001b[0m \u001b[32m━━━━━━━━━━━━━━━━━━━━\u001b[0m\u001b[37m\u001b[0m \u001b[1m67s\u001b[0m 392ms/step - accuracy: 0.5597 - loss: 1.6768 - val_accuracy: 0.2561 - val_loss: 4.5219 - learning_rate: 0.0010\n",
      "Epoch 2/5\n",
      "\u001b[1m158/158\u001b[0m \u001b[32m━━━━━━━━━━━━━━━━━━━━\u001b[0m\u001b[37m\u001b[0m \u001b[1m60s\u001b[0m 379ms/step - accuracy: 0.8909 - loss: 0.5547 - val_accuracy: 0.2478 - val_loss: 3.8674 - learning_rate: 0.0010\n",
      "Epoch 3/5\n",
      "\u001b[1m158/158\u001b[0m \u001b[32m━━━━━━━━━━━━━━━━━━━━\u001b[0m\u001b[37m\u001b[0m \u001b[1m60s\u001b[0m 378ms/step - accuracy: 0.9270 - loss: 0.3982 - val_accuracy: 0.2421 - val_loss: 4.1627 - learning_rate: 0.0010\n",
      "Epoch 4/5\n",
      "\u001b[1m158/158\u001b[0m \u001b[32m━━━━━━━━━━━━━━━━━━━━\u001b[0m\u001b[37m\u001b[0m \u001b[1m61s\u001b[0m 384ms/step - accuracy: 0.9505 - loss: 0.2938 - val_accuracy: 0.2285 - val_loss: 5.3648 - learning_rate: 0.0010\n",
      "Epoch 5/5\n",
      "\u001b[1m158/158\u001b[0m \u001b[32m━━━━━━━━━━━━━━━━━━━━\u001b[0m\u001b[37m\u001b[0m \u001b[1m85s\u001b[0m 404ms/step - accuracy: 0.9734 - loss: 0.2118 - val_accuracy: 0.2174 - val_loss: 4.9569 - learning_rate: 0.0010\n",
      "\u001b[1m840/840\u001b[0m \u001b[32m━━━━━━━━━━━━━━━━━━━━\u001b[0m\u001b[37m\u001b[0m \u001b[1m37s\u001b[0m 44ms/step\n"
     ]
    },
    {
     "data": {
      "text/html": [
       "<pre style=\"white-space:pre;overflow-x:auto;line-height:normal;font-family:Menlo,'DejaVu Sans Mono',consolas,'Courier New',monospace\">Fold <span style=\"color: #008080; text-decoration-color: #008080; font-weight: bold\">1</span> Accuracy: <span style=\"color: #008080; text-decoration-color: #008080; font-weight: bold\">0.2478</span>, Precision: <span style=\"color: #008080; text-decoration-color: #008080; font-weight: bold\">0.1429</span>, Recall: <span style=\"color: #008080; text-decoration-color: #008080; font-weight: bold\">0.1373</span>, F1: <span style=\"color: #008080; text-decoration-color: #008080; font-weight: bold\">0.1400</span>\n",
       "</pre>\n"
      ],
      "text/plain": [
       "Fold \u001b[1;36m1\u001b[0m Accuracy: \u001b[1;36m0.2478\u001b[0m, Precision: \u001b[1;36m0.1429\u001b[0m, Recall: \u001b[1;36m0.1373\u001b[0m, F1: \u001b[1;36m0.1400\u001b[0m\n"
      ]
     },
     "metadata": {},
     "output_type": "display_data"
    },
    {
     "data": {
      "text/html": [
       "<pre style=\"white-space:pre;overflow-x:auto;line-height:normal;font-family:Menlo,'DejaVu Sans Mono',consolas,'Courier New',monospace\"><span style=\"color: #008000; text-decoration-color: #008000; font-weight: bold\">Training fold </span><span style=\"color: #008000; text-decoration-color: #008000; font-weight: bold\">2</span><span style=\"color: #008000; text-decoration-color: #008000; font-weight: bold\">/</span><span style=\"color: #008000; text-decoration-color: #008000; font-weight: bold\">4</span><span style=\"color: #008000; text-decoration-color: #008000; font-weight: bold\"> for PGB_20_0</span>\n",
       "</pre>\n"
      ],
      "text/plain": [
       "\u001b[1;32mTraining fold \u001b[0m\u001b[1;32m2\u001b[0m\u001b[1;32m/\u001b[0m\u001b[1;32m4\u001b[0m\u001b[1;32m for PGB_20_0\u001b[0m\n"
      ]
     },
     "metadata": {},
     "output_type": "display_data"
    },
    {
     "name": "stdout",
     "output_type": "stream",
     "text": [
      "Epoch 1/5\n",
      "\u001b[1m158/158\u001b[0m \u001b[32m━━━━━━━━━━━━━━━━━━━━\u001b[0m\u001b[37m\u001b[0m \u001b[1m66s\u001b[0m 387ms/step - accuracy: 0.3345 - loss: 2.1248 - val_accuracy: 0.4452 - val_loss: 1.9949 - learning_rate: 0.0010\n",
      "Epoch 2/5\n",
      "\u001b[1m158/158\u001b[0m \u001b[32m━━━━━━━━━━━━━━━━━━━━\u001b[0m\u001b[37m\u001b[0m \u001b[1m60s\u001b[0m 377ms/step - accuracy: 0.4312 - loss: 1.4012 - val_accuracy: 0.4452 - val_loss: 1.7727 - learning_rate: 0.0010\n",
      "Epoch 3/5\n",
      "\u001b[1m158/158\u001b[0m \u001b[32m━━━━━━━━━━━━━━━━━━━━\u001b[0m\u001b[37m\u001b[0m \u001b[1m58s\u001b[0m 367ms/step - accuracy: 0.4352 - loss: 1.3096 - val_accuracy: 0.3711 - val_loss: 2.2883 - learning_rate: 0.0010\n",
      "Epoch 4/5\n",
      "\u001b[1m158/158\u001b[0m \u001b[32m━━━━━━━━━━━━━━━━━━━━\u001b[0m\u001b[37m\u001b[0m \u001b[1m60s\u001b[0m 380ms/step - accuracy: 0.4275 - loss: 1.3909 - val_accuracy: 0.3889 - val_loss: 2.1385 - learning_rate: 0.0010\n",
      "Epoch 5/5\n",
      "\u001b[1m158/158\u001b[0m \u001b[32m━━━━━━━━━━━━━━━━━━━━\u001b[0m\u001b[37m\u001b[0m \u001b[1m55s\u001b[0m 350ms/step - accuracy: 0.4293 - loss: 1.2948 - val_accuracy: 0.2837 - val_loss: 2.8534 - learning_rate: 0.0010\n",
      "\u001b[1m840/840\u001b[0m \u001b[32m━━━━━━━━━━━━━━━━━━━━\u001b[0m\u001b[37m\u001b[0m \u001b[1m38s\u001b[0m 45ms/step\n"
     ]
    },
    {
     "data": {
      "text/html": [
       "<pre style=\"white-space:pre;overflow-x:auto;line-height:normal;font-family:Menlo,'DejaVu Sans Mono',consolas,'Courier New',monospace\">Fold <span style=\"color: #008080; text-decoration-color: #008080; font-weight: bold\">2</span> Accuracy: <span style=\"color: #008080; text-decoration-color: #008080; font-weight: bold\">0.4452</span>, Precision: <span style=\"color: #008080; text-decoration-color: #008080; font-weight: bold\">0.3333</span>, Recall: <span style=\"color: #008080; text-decoration-color: #008080; font-weight: bold\">0.3158</span>, F1: <span style=\"color: #008080; text-decoration-color: #008080; font-weight: bold\">0.3241</span>\n",
       "</pre>\n"
      ],
      "text/plain": [
       "Fold \u001b[1;36m2\u001b[0m Accuracy: \u001b[1;36m0.4452\u001b[0m, Precision: \u001b[1;36m0.3333\u001b[0m, Recall: \u001b[1;36m0.3158\u001b[0m, F1: \u001b[1;36m0.3241\u001b[0m\n"
      ]
     },
     "metadata": {},
     "output_type": "display_data"
    },
    {
     "data": {
      "text/html": [
       "<pre style=\"white-space:pre;overflow-x:auto;line-height:normal;font-family:Menlo,'DejaVu Sans Mono',consolas,'Courier New',monospace\"><span style=\"color: #008000; text-decoration-color: #008000; font-weight: bold\">Training fold </span><span style=\"color: #008000; text-decoration-color: #008000; font-weight: bold\">3</span><span style=\"color: #008000; text-decoration-color: #008000; font-weight: bold\">/</span><span style=\"color: #008000; text-decoration-color: #008000; font-weight: bold\">4</span><span style=\"color: #008000; text-decoration-color: #008000; font-weight: bold\"> for PGB_20_0</span>\n",
       "</pre>\n"
      ],
      "text/plain": [
       "\u001b[1;32mTraining fold \u001b[0m\u001b[1;32m3\u001b[0m\u001b[1;32m/\u001b[0m\u001b[1;32m4\u001b[0m\u001b[1;32m for PGB_20_0\u001b[0m\n"
      ]
     },
     "metadata": {},
     "output_type": "display_data"
    },
    {
     "name": "stdout",
     "output_type": "stream",
     "text": [
      "Epoch 1/5\n",
      "\u001b[1m158/158\u001b[0m \u001b[32m━━━━━━━━━━━━━━━━━━━━\u001b[0m\u001b[37m\u001b[0m \u001b[1m63s\u001b[0m 372ms/step - accuracy: 0.4419 - loss: 1.8806 - val_accuracy: 0.0326 - val_loss: 2.6616 - learning_rate: 0.0010\n",
      "Epoch 2/5\n",
      "\u001b[1m158/158\u001b[0m \u001b[32m━━━━━━━━━━━━━━━━━━━━\u001b[0m\u001b[37m\u001b[0m \u001b[1m56s\u001b[0m 354ms/step - accuracy: 0.8120 - loss: 0.6650 - val_accuracy: 0.6801 - val_loss: 1.3839 - learning_rate: 0.0010\n",
      "Epoch 3/5\n",
      "\u001b[1m158/158\u001b[0m \u001b[32m━━━━━━━━━━━━━━━━━━━━\u001b[0m\u001b[37m\u001b[0m \u001b[1m57s\u001b[0m 361ms/step - accuracy: 0.9619 - loss: 0.2764 - val_accuracy: 0.6362 - val_loss: 1.3985 - learning_rate: 0.0010\n",
      "Epoch 4/5\n",
      "\u001b[1m158/158\u001b[0m \u001b[32m━━━━━━━━━━━━━━━━━━━━\u001b[0m\u001b[37m\u001b[0m \u001b[1m82s\u001b[0m 358ms/step - accuracy: 0.9804 - loss: 0.1993 - val_accuracy: 0.6491 - val_loss: 1.8725 - learning_rate: 0.0010\n",
      "Epoch 5/5\n",
      "\u001b[1m158/158\u001b[0m \u001b[32m━━━━━━━━━━━━━━━━━━━━\u001b[0m\u001b[37m\u001b[0m \u001b[1m57s\u001b[0m 363ms/step - accuracy: 0.9879 - loss: 0.1514 - val_accuracy: 0.6237 - val_loss: 2.3138 - learning_rate: 0.0010\n",
      "\u001b[1m840/840\u001b[0m \u001b[32m━━━━━━━━━━━━━━━━━━━━\u001b[0m\u001b[37m\u001b[0m \u001b[1m37s\u001b[0m 44ms/step\n"
     ]
    },
    {
     "data": {
      "text/html": [
       "<pre style=\"white-space:pre;overflow-x:auto;line-height:normal;font-family:Menlo,'DejaVu Sans Mono',consolas,'Courier New',monospace\">Fold <span style=\"color: #008080; text-decoration-color: #008080; font-weight: bold\">3</span> Accuracy: <span style=\"color: #008080; text-decoration-color: #008080; font-weight: bold\">0.6801</span>, Precision: <span style=\"color: #008080; text-decoration-color: #008080; font-weight: bold\">0.5450</span>, Recall: <span style=\"color: #008080; text-decoration-color: #008080; font-weight: bold\">0.4431</span>, F1: <span style=\"color: #008080; text-decoration-color: #008080; font-weight: bold\">0.4585</span>\n",
       "</pre>\n"
      ],
      "text/plain": [
       "Fold \u001b[1;36m3\u001b[0m Accuracy: \u001b[1;36m0.6801\u001b[0m, Precision: \u001b[1;36m0.5450\u001b[0m, Recall: \u001b[1;36m0.4431\u001b[0m, F1: \u001b[1;36m0.4585\u001b[0m\n"
      ]
     },
     "metadata": {},
     "output_type": "display_data"
    },
    {
     "data": {
      "text/html": [
       "<pre style=\"white-space:pre;overflow-x:auto;line-height:normal;font-family:Menlo,'DejaVu Sans Mono',consolas,'Courier New',monospace\"><span style=\"color: #008000; text-decoration-color: #008000; font-weight: bold\">Training fold </span><span style=\"color: #008000; text-decoration-color: #008000; font-weight: bold\">4</span><span style=\"color: #008000; text-decoration-color: #008000; font-weight: bold\">/</span><span style=\"color: #008000; text-decoration-color: #008000; font-weight: bold\">4</span><span style=\"color: #008000; text-decoration-color: #008000; font-weight: bold\"> for PGB_20_0</span>\n",
       "</pre>\n"
      ],
      "text/plain": [
       "\u001b[1;32mTraining fold \u001b[0m\u001b[1;32m4\u001b[0m\u001b[1;32m/\u001b[0m\u001b[1;32m4\u001b[0m\u001b[1;32m for PGB_20_0\u001b[0m\n"
      ]
     },
     "metadata": {},
     "output_type": "display_data"
    },
    {
     "name": "stdout",
     "output_type": "stream",
     "text": [
      "Epoch 1/5\n",
      "\u001b[1m158/158\u001b[0m \u001b[32m━━━━━━━━━━━━━━━━━━━━\u001b[0m\u001b[37m\u001b[0m \u001b[1m64s\u001b[0m 381ms/step - accuracy: 0.4282 - loss: 1.8995 - val_accuracy: 0.3611 - val_loss: 2.2592 - learning_rate: 0.0010\n",
      "Epoch 2/5\n",
      "\u001b[1m158/158\u001b[0m \u001b[32m━━━━━━━━━━━━━━━━━━━━\u001b[0m\u001b[37m\u001b[0m \u001b[1m58s\u001b[0m 366ms/step - accuracy: 0.6496 - loss: 1.0391 - val_accuracy: 0.3952 - val_loss: 2.3467 - learning_rate: 0.0010\n",
      "Epoch 3/5\n",
      "\u001b[1m158/158\u001b[0m \u001b[32m━━━━━━━━━━━━━━━━━━━━\u001b[0m\u001b[37m\u001b[0m \u001b[1m77s\u001b[0m 335ms/step - accuracy: 0.7849 - loss: 0.6307 - val_accuracy: 0.6579 - val_loss: 1.3246 - learning_rate: 0.0010\n",
      "Epoch 4/5\n",
      "\u001b[1m158/158\u001b[0m \u001b[32m━━━━━━━━━━━━━━━━━━━━\u001b[0m\u001b[37m\u001b[0m \u001b[1m86s\u001b[0m 364ms/step - accuracy: 0.7730 - loss: 0.6684 - val_accuracy: 0.3865 - val_loss: 2.2837 - learning_rate: 0.0010\n",
      "Epoch 5/5\n",
      "\u001b[1m158/158\u001b[0m \u001b[32m━━━━━━━━━━━━━━━━━━━━\u001b[0m\u001b[37m\u001b[0m \u001b[1m55s\u001b[0m 350ms/step - accuracy: 0.7874 - loss: 0.6047 - val_accuracy: 0.2864 - val_loss: 3.2428 - learning_rate: 0.0010\n",
      "\u001b[1m840/840\u001b[0m \u001b[32m━━━━━━━━━━━━━━━━━━━━\u001b[0m\u001b[37m\u001b[0m \u001b[1m38s\u001b[0m 45ms/step\n"
     ]
    },
    {
     "data": {
      "text/html": [
       "<pre style=\"white-space:pre;overflow-x:auto;line-height:normal;font-family:Menlo,'DejaVu Sans Mono',consolas,'Courier New',monospace\">Fold <span style=\"color: #008080; text-decoration-color: #008080; font-weight: bold\">4</span> Accuracy: <span style=\"color: #008080; text-decoration-color: #008080; font-weight: bold\">0.6579</span>, Precision: <span style=\"color: #008080; text-decoration-color: #008080; font-weight: bold\">0.6293</span>, Recall: <span style=\"color: #008080; text-decoration-color: #008080; font-weight: bold\">0.6766</span>, F1: <span style=\"color: #008080; text-decoration-color: #008080; font-weight: bold\">0.6246</span>\n",
       "</pre>\n"
      ],
      "text/plain": [
       "Fold \u001b[1;36m4\u001b[0m Accuracy: \u001b[1;36m0.6579\u001b[0m, Precision: \u001b[1;36m0.6293\u001b[0m, Recall: \u001b[1;36m0.6766\u001b[0m, F1: \u001b[1;36m0.6246\u001b[0m\n"
      ]
     },
     "metadata": {},
     "output_type": "display_data"
    },
    {
     "data": {
      "text/html": [
       "<pre style=\"white-space:pre;overflow-x:auto;line-height:normal;font-family:Menlo,'DejaVu Sans Mono',consolas,'Courier New',monospace\"><span style=\"color: #800080; text-decoration-color: #800080; font-weight: bold\">Average metrics for PGB_20_0 across </span><span style=\"color: #800080; text-decoration-color: #800080; font-weight: bold\">4</span><span style=\"color: #800080; text-decoration-color: #800080; font-weight: bold\"> folds:</span>\n",
       "</pre>\n"
      ],
      "text/plain": [
       "\u001b[1;35mAverage metrics for PGB_20_0 across \u001b[0m\u001b[1;35m4\u001b[0m\u001b[1;35m folds:\u001b[0m\n"
      ]
     },
     "metadata": {},
     "output_type": "display_data"
    },
    {
     "data": {
      "text/html": [
       "<pre style=\"white-space:pre;overflow-x:auto;line-height:normal;font-family:Menlo,'DejaVu Sans Mono',consolas,'Courier New',monospace\">Average Accuracy: <span style=\"color: #008080; text-decoration-color: #008080; font-weight: bold\">0.5077</span>\n",
       "</pre>\n"
      ],
      "text/plain": [
       "Average Accuracy: \u001b[1;36m0.5077\u001b[0m\n"
      ]
     },
     "metadata": {},
     "output_type": "display_data"
    },
    {
     "data": {
      "text/html": [
       "<pre style=\"white-space:pre;overflow-x:auto;line-height:normal;font-family:Menlo,'DejaVu Sans Mono',consolas,'Courier New',monospace\">Average Precision: <span style=\"color: #008080; text-decoration-color: #008080; font-weight: bold\">0.4126</span>\n",
       "</pre>\n"
      ],
      "text/plain": [
       "Average Precision: \u001b[1;36m0.4126\u001b[0m\n"
      ]
     },
     "metadata": {},
     "output_type": "display_data"
    },
    {
     "data": {
      "text/html": [
       "<pre style=\"white-space:pre;overflow-x:auto;line-height:normal;font-family:Menlo,'DejaVu Sans Mono',consolas,'Courier New',monospace\">Average Recall: <span style=\"color: #008080; text-decoration-color: #008080; font-weight: bold\">0.3932</span>\n",
       "</pre>\n"
      ],
      "text/plain": [
       "Average Recall: \u001b[1;36m0.3932\u001b[0m\n"
      ]
     },
     "metadata": {},
     "output_type": "display_data"
    },
    {
     "data": {
      "text/html": [
       "<pre style=\"white-space:pre;overflow-x:auto;line-height:normal;font-family:Menlo,'DejaVu Sans Mono',consolas,'Courier New',monospace\">Average F1: <span style=\"color: #008080; text-decoration-color: #008080; font-weight: bold\">0.3868</span>\n",
       "\n",
       "</pre>\n"
      ],
      "text/plain": [
       "Average F1: \u001b[1;36m0.3868\u001b[0m\n",
       "\n"
      ]
     },
     "metadata": {},
     "output_type": "display_data"
    },
    {
     "data": {
      "text/html": [
       "<pre style=\"white-space:pre;overflow-x:auto;line-height:normal;font-family:Menlo,'DejaVu Sans Mono',consolas,'Courier New',monospace\"><span style=\"color: #000080; text-decoration-color: #000080; font-weight: bold\">Overall Averages Across All File Pairs:</span>\n",
       "</pre>\n"
      ],
      "text/plain": [
       "\u001b[1;34mOverall Averages Across All File Pairs:\u001b[0m\n"
      ]
     },
     "metadata": {},
     "output_type": "display_data"
    },
    {
     "data": {
      "text/html": [
       "<pre style=\"white-space:pre;overflow-x:auto;line-height:normal;font-family:Menlo,'DejaVu Sans Mono',consolas,'Courier New',monospace\">Overall Average Accuracy: <span style=\"color: #008080; text-decoration-color: #008080; font-weight: bold\">0.5077</span>\n",
       "</pre>\n"
      ],
      "text/plain": [
       "Overall Average Accuracy: \u001b[1;36m0.5077\u001b[0m\n"
      ]
     },
     "metadata": {},
     "output_type": "display_data"
    },
    {
     "data": {
      "text/html": [
       "<pre style=\"white-space:pre;overflow-x:auto;line-height:normal;font-family:Menlo,'DejaVu Sans Mono',consolas,'Courier New',monospace\">Overall Average Precision: <span style=\"color: #008080; text-decoration-color: #008080; font-weight: bold\">0.4126</span>\n",
       "</pre>\n"
      ],
      "text/plain": [
       "Overall Average Precision: \u001b[1;36m0.4126\u001b[0m\n"
      ]
     },
     "metadata": {},
     "output_type": "display_data"
    },
    {
     "data": {
      "text/html": [
       "<pre style=\"white-space:pre;overflow-x:auto;line-height:normal;font-family:Menlo,'DejaVu Sans Mono',consolas,'Courier New',monospace\">Overall Average Recall: <span style=\"color: #008080; text-decoration-color: #008080; font-weight: bold\">0.3932</span>\n",
       "</pre>\n"
      ],
      "text/plain": [
       "Overall Average Recall: \u001b[1;36m0.3932\u001b[0m\n"
      ]
     },
     "metadata": {},
     "output_type": "display_data"
    },
    {
     "data": {
      "text/html": [
       "<pre style=\"white-space:pre;overflow-x:auto;line-height:normal;font-family:Menlo,'DejaVu Sans Mono',consolas,'Courier New',monospace\">Overall Average F1: <span style=\"color: #008080; text-decoration-color: #008080; font-weight: bold\">0.3868</span>\n",
       "</pre>\n"
      ],
      "text/plain": [
       "Overall Average F1: \u001b[1;36m0.3868\u001b[0m\n"
      ]
     },
     "metadata": {},
     "output_type": "display_data"
    }
   ],
   "source": [
    "kf = KFold(n_splits=n_splits, shuffle=False)\n",
    "counter = 0\n",
    "console = Console()\n",
    "\n",
    "# Placeholder for processed base names and metrics\n",
    "processed_bases = set()\n",
    "metrics_summary = []\n",
    "\n",
    "for file in sorted(os.listdir(sequences_directory)):\n",
    "    if \"_train_scaled_sequences.npy\" in file:\n",
    "        base_name = file.replace(\"_train_scaled_sequences.npy\", \"\")\n",
    "        if base_name in processed_bases:\n",
    "            continue\n",
    "        counter+=1\n",
    "        # Load sequences and labels\n",
    "        train_sequence_file_path = os.path.join(sequences_directory, f\"{base_name}_train_scaled_sequences.npy\")\n",
    "        train_label_file_path = os.path.join(sequences_directory, f\"{base_name}_train_scaled_labels.npy\")\n",
    "        X_train, y_train = load_sequences(train_sequence_file_path, train_label_file_path)\n",
    "\n",
    "        # Assuming the existence of a test set (adjust if necessary)\n",
    "        test_sequence_file_path = os.path.join(sequences_directory, f\"{base_name}_test_scaled_sequences.npy\")\n",
    "        test_label_file_path = os.path.join(sequences_directory, f\"{base_name}_test_scaled_labels.npy\")\n",
    "        X_test, y_test = load_sequences(test_sequence_file_path, test_label_file_path)\n",
    "\n",
    "        # Merge for cross-validation\n",
    "        X = np.concatenate((X_train, X_test), axis=0)\n",
    "        y = np.concatenate((y_train, y_test), axis=0)\n",
    "\n",
    "        num_classes = y_train.shape[1]\n",
    "        input_shape = (sequence_length, num_features)\n",
    "        fold_metrics = []\n",
    "\n",
    "        for fold, (train_idx, val_idx) in enumerate(kf.split(X, y)):\n",
    "            console.print(f\"[bold green]Training fold {fold + 1}/{n_splits} for {base_name}[/]\")\n",
    "            X_train_fold, X_val_fold = X[train_idx], X[val_idx]\n",
    "            y_train_fold, y_val_fold = y[train_idx], y[val_idx]\n",
    "\n",
    "            model = create_model(input_shape, num_classes, l2_reg=l2_reg)\n",
    "            lr_scheduler = LearningRateScheduler(lr_schedule)\n",
    "            early_stopping = EarlyStopping(monitor='val_loss', patience=patience, restore_best_weights=True)\n",
    "\n",
    "            # Add ModelCheckpoint and TensorBoard for improved monitoring and model saving\n",
    "            model_filepath = os.path.join(model_save_directory, f\"model_{base_name}_fold_{fold+1}.keras\")\n",
    "            checkpoint = ModelCheckpoint(model_filepath, save_best_only=True, monitor='val_loss')\n",
    "            tensorboard = TensorBoard(log_dir=f\"./logs/{base_name}_fold_{fold+1}\")\n",
    "\n",
    "\n",
    "\n",
    "            history = model.fit(X_train_fold, y_train_fold, validation_data=(X_val_fold, y_val_fold),\n",
    "                                epochs=epochs, batch_size=batch_size, callbacks=[early_stopping, lr_scheduler, checkpoint, tensorboard], verbose=1)\n",
    "\n",
    "            # Assuming your model outputs softmax probabilities, adjust as necessary\n",
    "            y_val_pred = model.predict(X_val_fold)\n",
    "            y_val_pred_classes = np.argmax(y_val_pred, axis=1)\n",
    "            y_val_true_classes = np.argmax(y_val_fold, axis=1)\n",
    "\n",
    "            # Calculate and store metrics for this fold\n",
    "            accuracy = accuracy_score(y_val_true_classes, y_val_pred_classes)\n",
    "            precision = precision_score(y_val_true_classes, y_val_pred_classes, average='macro', zero_division=0)\n",
    "            recall = recall_score(y_val_true_classes, y_val_pred_classes, average='macro', zero_division=0)\n",
    "            f1 = f1_score(y_val_true_classes, y_val_pred_classes, average='macro')\n",
    "            fold_metrics.append((accuracy, precision, recall, f1))\n",
    "\n",
    "            console.print(f\"Fold {fold+1} Accuracy: {accuracy:.4f}, Precision: {precision:.4f}, Recall: {recall:.4f}, F1: {f1:.4f}\")\n",
    "            \n",
    "                # After processing all folds for the current CSV pair\n",
    "        if fold_metrics:\n",
    "            # Calculate the average of each metric across all folds\n",
    "            avg_accuracy = mean([metric[0] for metric in fold_metrics])\n",
    "            avg_precision = mean([metric[1] for metric in fold_metrics])\n",
    "            avg_recall = mean([metric[2] for metric in fold_metrics])\n",
    "            avg_f1 = mean([metric[3] for metric in fold_metrics])\n",
    "\n",
    "            # Append averaged metrics to the metrics_summary for overall analysis if needed\n",
    "            metrics_summary.append((base_name, avg_accuracy, avg_precision, avg_recall, avg_f1))\n",
    "\n",
    "            # Print the averages\n",
    "            console.print(f\"[bold magenta]Average metrics for {base_name} across {n_splits} folds:[/]\")\n",
    "            console.print(f\"Average Accuracy: {avg_accuracy:.4f}\")\n",
    "            console.print(f\"Average Precision: {avg_precision:.4f}\")\n",
    "            console.print(f\"Average Recall: {avg_recall:.4f}\")\n",
    "            console.print(f\"Average F1: {avg_f1:.4f}\\n\")\n",
    "    if counter!=0:\n",
    "        break\n",
    "\n",
    "# Optionally, after all file pairs have been processed, print a summary of averages across all file pairs\n",
    "console.print(\"[bold blue]Overall Averages Across All File Pairs:[/]\")\n",
    "overall_avg_accuracy = mean([metrics[1] for metrics in metrics_summary])\n",
    "overall_avg_precision = mean([metrics[2] for metrics in metrics_summary])\n",
    "overall_avg_recall = mean([metrics[3] for metrics in metrics_summary])\n",
    "overall_avg_f1 = mean([metrics[4] for metrics in metrics_summary])\n",
    "\n",
    "console.print(f\"Overall Average Accuracy: {overall_avg_accuracy:.4f}\")\n",
    "console.print(f\"Overall Average Precision: {overall_avg_precision:.4f}\")\n",
    "console.print(f\"Overall Average Recall: {overall_avg_recall:.4f}\")\n",
    "console.print(f\"Overall Average F1: {overall_avg_f1:.4f}\")\n"
   ]
  }
 ],
 "metadata": {
  "kernelspec": {
   "display_name": "ltn",
   "language": "python",
   "name": "python3"
  },
  "language_info": {
   "codemirror_mode": {
    "name": "ipython",
    "version": 3
   },
   "file_extension": ".py",
   "mimetype": "text/x-python",
   "name": "python",
   "nbconvert_exporter": "python",
   "pygments_lexer": "ipython3",
   "version": "3.10.0"
  }
 },
 "nbformat": 4,
 "nbformat_minor": 2
}
