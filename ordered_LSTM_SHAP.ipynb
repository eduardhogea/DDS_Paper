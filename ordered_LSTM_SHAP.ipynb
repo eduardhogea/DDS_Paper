{
 "cells": [
  {
   "cell_type": "code",
   "execution_count": 4,
   "metadata": {},
   "outputs": [],
   "source": [
    "# Standard library imports\n",
    "import csv\n",
    "import math\n",
    "import os\n",
    "import pickle\n",
    "import random\n",
    "import re\n",
    "\n",
    "# Third-party library imports\n",
    "import config\n",
    "import joblib\n",
    "import numpy as np\n",
    "import pandas as pd\n",
    "import seaborn as sns\n",
    "import tensorflow as tf\n",
    "from keras import layers, models, optimizers, callbacks, regularizers, utils\n",
    "from keras.callbacks import EarlyStopping, LearningRateScheduler, ModelCheckpoint, TensorBoard\n",
    "from keras.layers import Dense, Dropout, LSTM, Input\n",
    "from keras.models import Sequential, load_model\n",
    "from keras.optimizers import Adam\n",
    "from keras.regularizers import l2\n",
    "from keras.models import load_model\n",
    "from keras.utils import to_categorical\n",
    "from rich.console import Console\n",
    "from rich.table import Table\n",
    "from sklearn.compose import ColumnTransformer\n",
    "from sklearn.metrics import accuracy_score, precision_score, recall_score, f1_score\n",
    "from sklearn.model_selection import train_test_split, KFold\n",
    "from sklearn.preprocessing import LabelEncoder, OneHotEncoder, StandardScaler\n",
    "from tqdm import tqdm\n",
    "from numpy import mean\n",
    "from collections import Counter\n",
    "\n",
    "\n",
    "\n",
    "# Configurations\n",
    "model_path = config.model_path\n",
    "dataset_path = config.dataset_path\n",
    "PGB_path = config.PGB_path\n",
    "RGB_path = config.RGB_path\n",
    "csv_file = config.csv_file\n",
    "preprocessor_file = config.preprocessor_file\n",
    "train_path = config.train_path\n",
    "val_path = config.val_path\n",
    "chunk_size = config.chunk_size\n",
    "csv_directory = config.csv_directory\n",
    "data_root_folder = config.data_root_folder\n",
    "sequence_length = config.sequence_length\n",
    "sequences_directory = config.sequences_directory\n",
    "num_features = config.num_features\n",
    "processed_bases = config.processed_bases\n",
    "batch_size = config.batch_size\n",
    "epochs = config.epochs\n",
    "patience = config.patience\n",
    "learning_rate = config.learning_rate\n",
    "n_splits = config.n_splits\n",
    "model_save_directory = config.model_save_directory\n",
    "reg_value = config.reg_value\n",
    "num_train_samples = config.num_train_samples\n",
    "num_test_samples = config.num_test_samples\n",
    "reg_type = config.reg_type\n",
    "n_samples = config.n_samples\n",
    "\n",
    "def reset_random_seeds(seed_value=42):\n",
    "    tf.random.set_seed(seed_value)\n",
    "    np.random.seed(seed_value)\n",
    "    random.seed(seed_value)\n",
    "    os.environ['PYTHONHASHSEED'] = str(seed_value)\n",
    "\n",
    "# Call this function at the beginning of your script\n",
    "reset_random_seeds()\n"
   ]
  },
  {
   "cell_type": "markdown",
   "metadata": {},
   "source": [
    "# Auxiliary functions"
   ]
  },
  {
   "cell_type": "code",
   "execution_count": 5,
   "metadata": {},
   "outputs": [],
   "source": [
    "def extract_fault(file_name):\n",
    "    fault_mapping = {\n",
    "        '0Health': 'HEA', '1Chipped': 'CTF', '2Miss': 'MTF', \n",
    "        '3Root': 'RCF', '4Surface': 'SWF', '5Ball': 'BWF', \n",
    "        '6Combination': 'CWF', '7Inner': 'IRF', '8Outer': 'ORF'\n",
    "    }\n",
    "    for key, value in fault_mapping.items():\n",
    "        if key in file_name:\n",
    "            return value\n",
    "    return None\n",
    "\n",
    "def make_csv_writer(csv_file):\n",
    "    csv_writer = csv.writer(csv_file)\n",
    "    csv_writer.writerow(['Channel1', 'Channel2', 'Channel3', 'Channel4', 'Channel5', 'Channel6', 'Channel7', 'Channel8', 'Fault'])\n",
    "    return csv_writer\n",
    "\n",
    "def generate_csv(output_directory, root_path, speed, experiment, files, num_train_samples, num_test_samples):\n",
    "    if not os.path.exists(output_directory):\n",
    "        os.makedirs(output_directory)\n",
    "    \n",
    "    train_filename_suffix = f\"{speed}_{experiment}_train\" if experiment else f\"{speed}_train\"\n",
    "    test_filename_suffix = f\"{speed}_{experiment}_test\" if experiment else f\"{speed}_test\"\n",
    "    \n",
    "    train_output_file_path = os.path.join(output_directory, f\"PGB_{train_filename_suffix}.csv\")\n",
    "    test_output_file_path = os.path.join(output_directory, f\"PGB_{test_filename_suffix}.csv\")\n",
    "    \n",
    "    with open(train_output_file_path, 'w', newline='', encoding='utf-8') as train_csvfile, \\\n",
    "        open(test_output_file_path, 'w', newline='', encoding='utf-8') as test_csvfile:\n",
    "        train_csv_writer = make_csv_writer(train_csvfile)\n",
    "        test_csv_writer = make_csv_writer(test_csvfile)\n",
    "        \n",
    "        for file in tqdm(files, desc=f\"Processing {speed} {experiment}\", unit=\"file\"):\n",
    "            fault_type = extract_fault(file)\n",
    "            file_path = os.path.join(root_path, file)\n",
    "            \n",
    "            total_rows = num_train_samples + num_test_samples\n",
    "            data = pd.read_csv(file_path, sep='\\t', header=None, encoding='ISO-8859-1', skiprows=1, nrows=total_rows)\n",
    "            train_samples, test_samples = data.iloc[:num_train_samples, :], data.iloc[num_train_samples:total_rows, :]\n",
    "            \n",
    "            for index, row in train_samples.iterrows():\n",
    "                train_csv_writer.writerow(row[:8].tolist() + [fault_type])\n",
    "            \n",
    "            for index, row in test_samples.iterrows():\n",
    "                test_csv_writer.writerow(row[:8].tolist() + [fault_type])\n",
    "\n",
    "def process_pgb_data(data_root_folder, csv_directory, num_train_samples, num_test_samples):\n",
    "    for root, dirs, files in os.walk(data_root_folder):\n",
    "        parts = root.split(os.sep)\n",
    "        if 'Variable_speed' in parts:\n",
    "            speed = \"Variable_speed\"\n",
    "            experiment_dir = parts[-1]  # Get the last part as the experiment name\n",
    "            exp_files = [f for f in os.listdir(root) if f.endswith('.txt')]\n",
    "            generate_csv(csv_directory, root, speed, experiment_dir, exp_files, num_train_samples, num_test_samples)\n",
    "        elif 'PGB' in parts and files:\n",
    "            speed = parts[-1]  # Last part of 'root' is the speed directory\n",
    "            generate_csv(csv_directory, root, speed, '', files, num_train_samples, num_test_samples)\n",
    "            \n",
    "            \n",
    "def overview_csv_files(directory):\n",
    "    data = []\n",
    "    all_faults = set()\n",
    "\n",
    "    for file in os.listdir(directory):\n",
    "        if file.endswith(\".csv\"):\n",
    "            file_path = os.path.join(directory, file)\n",
    "            df = pd.read_csv(file_path)\n",
    "\n",
    "            # Check if the CSV is empty (aside from the header)\n",
    "            if df.shape[0] == 0:\n",
    "                # Delete the empty CSV file\n",
    "                os.remove(file_path)\n",
    "                print(f\"Deleted empty file: {file_path}\")\n",
    "                continue  # Skip further processing for this file\n",
    "\n",
    "            num_samples = len(df)\n",
    "            fault_distribution = Counter(df['Fault'])\n",
    "            all_faults.update(fault_distribution.keys())\n",
    "            data.append({'File Name': file, 'Number of Samples': num_samples, **fault_distribution})\n",
    "\n",
    "    if not data:  # If no data has been gathered, exit the function\n",
    "        print(\"No data found.\")\n",
    "        return\n",
    "\n",
    "    overview_df = pd.DataFrame(data)\n",
    "    for fault in all_faults:\n",
    "        if fault not in overview_df.columns:\n",
    "            overview_df[fault] = 0\n",
    "\n",
    "    cols = ['File Name', 'Number of Samples'] + sorted(all_faults)\n",
    "    overview_df = overview_df[cols]\n",
    "    overview_df.fillna(0, inplace=True)\n",
    "    overview_df.loc[:, 'Number of Samples':] = overview_df.loc[:, 'Number of Samples':].astype(int)\n",
    "\n",
    "    overview_df = overview_df.sort_values(by='File Name')\n",
    "    print(overview_df.to_string(index=False))\n",
    "    \n",
    "def load_and_scale_data(csv_path, scaler=None, save_scaler_path=None):\n",
    "    \"\"\"\n",
    "    Loads data from a CSV file, scales the features (excluding the 'Fault' column), \n",
    "    and returns the scaled DataFrame. Optionally saves the scaler model.\n",
    "    \"\"\"\n",
    "    # Load the data\n",
    "    data = pd.read_csv(csv_path)\n",
    "    \n",
    "    # Separate features and target\n",
    "    features = data.columns[:-1]  # Assuming the last column is the target\n",
    "    X = data[features]\n",
    "    y = data['Fault']\n",
    "\n",
    "    # Apply scaling\n",
    "    if scaler is None:\n",
    "        scaler = StandardScaler()\n",
    "        X_scaled = scaler.fit_transform(X)\n",
    "        if save_scaler_path:\n",
    "            joblib.dump(scaler, save_scaler_path)\n",
    "    else:\n",
    "        X_scaled = scaler.transform(X)\n",
    "    \n",
    "    # Combine scaled features with target\n",
    "    scaled_df = pd.DataFrame(X_scaled, columns=features)\n",
    "    scaled_df['Fault'] = y\n",
    "    \n",
    "    return scaled_df\n",
    "\n",
    "def create_sequences(df, sequence_length):\n",
    "    sequences = []\n",
    "    labels = []\n",
    "    fault_types = df['Fault'].unique()\n",
    "\n",
    "    for fault in fault_types:\n",
    "        df_fault = df[df['Fault'] == fault]\n",
    "        X = df_fault.drop('Fault', axis=1).values\n",
    "        y = df_fault['Fault'].iloc[0]  # Updated to use iloc for consistency\n",
    "        \n",
    "        for i in range(len(df_fault) - sequence_length + 1):\n",
    "            sequences.append(X[i:i+sequence_length])\n",
    "            labels.append(fault)  # Keep the fault type as is\n",
    "    \n",
    "    return np.array(sequences), np.array(labels)\n",
    "\n",
    "\n",
    "def save_sequences(input_directory, output_directory, sequence_length):\n",
    "    \"\"\"\n",
    "    Generates sequences and saves them as NumPy files, one for sequences and one for labels.\n",
    "    \n",
    "    Parameters:\n",
    "    - input_directory: The directory with the original, scaled data files.\n",
    "    - output_directory: The directory where the NumPy sequence files will be saved.\n",
    "    - sequence_length: The number of consecutive samples in each sequence.\n",
    "    \"\"\"\n",
    "    if not os.path.exists(output_directory):\n",
    "        os.makedirs(output_directory)\n",
    "    \n",
    "    for file_name in tqdm(os.listdir(input_directory), desc=\"Generating sequences\"):\n",
    "        if file_name.endswith('.csv'):\n",
    "            df = pd.read_csv(os.path.join(input_directory, file_name))\n",
    "            sequences, labels = create_sequences(df, sequence_length)\n",
    "            \n",
    "            # File names for sequences and labels\n",
    "            base_name = os.path.splitext(file_name)[0]\n",
    "            sequences_file_path = os.path.join(output_directory, f\"{base_name}_sequences.npy\")\n",
    "            labels_file_path = os.path.join(output_directory, f\"{base_name}_labels.npy\")\n",
    "            \n",
    "            # Save sequences and labels\n",
    "            np.save(sequences_file_path, sequences)\n",
    "            np.save(labels_file_path, labels)\n",
    "            \n",
    "def extract_speed_from_filename(file_name):\n",
    "    \"\"\"\n",
    "    Extracts the speed from the filename.\n",
    "    Returns the numeric speed for fixed speeds, or -1 for variable speeds.\n",
    "    \"\"\"\n",
    "    fixed_speed_match = re.search(r\"PGB_(\\d+)_\", file_name)\n",
    "    if fixed_speed_match:\n",
    "        return int(fixed_speed_match.group(1))\n",
    "    variable_speed_match = re.search(r\"Variable_speed\", file_name)\n",
    "    if variable_speed_match:\n",
    "        return -1  # Special value for variable speeds\n",
    "    return None\n",
    "\n",
    "def add_speed_feature_and_save(input_directory, output_directory, sequence_length):\n",
    "    if not os.path.exists(output_directory):\n",
    "        os.makedirs(output_directory)\n",
    "    \n",
    "    for file_name in tqdm(os.listdir(input_directory), desc=\"Processing files\"):\n",
    "        if file_name.endswith('.csv'):\n",
    "            speed = extract_speed_from_filename(file_name)\n",
    "            df = pd.read_csv(os.path.join(input_directory, file_name))\n",
    "            df['Speed'] = speed  # Add speed as a new column\n",
    "            \n",
    "            sequences, labels = create_sequences(df, sequence_length)\n",
    "            \n",
    "            base_name = os.path.splitext(file_name)[0]\n",
    "            sequences_file_path = os.path.join(output_directory, f\"{base_name}_sequences.npy\")\n",
    "            labels_file_path = os.path.join(output_directory, f\"{base_name}_labels.npy\")\n",
    "            \n",
    "            np.save(sequences_file_path, sequences)\n",
    "            np.save(labels_file_path, labels)\n",
    "            \n",
    "def display_samples(sequences_file_path, labels_file_path, num_samples=1):\n",
    "    \"\"\"\n",
    "    Displays a specified number of samples from the sequences and labels .npy files.\n",
    "    \n",
    "    Parameters:\n",
    "    - sequences_file_path: Path to the .npy file containing sequences.\n",
    "    - labels_file_path: Path to the .npy file containing labels.\n",
    "    - num_samples: Number of samples to display. Default is 5.\n",
    "    \"\"\"\n",
    "    # Load the sequences and labels\n",
    "    sequences = np.load(sequences_file_path)\n",
    "    labels = np.load(labels_file_path)\n",
    "    \n",
    "    # Determine the number of samples to display (cannot exceed the length of the data)\n",
    "    num_samples = min(num_samples, len(sequences))\n",
    "    \n",
    "    # Display the specified number of samples\n",
    "    for i in range(num_samples):\n",
    "        print(f\"Sample {i+1}:\")\n",
    "        print(\"Sequence:\")\n",
    "        print(sequences[i])\n",
    "        print(\"Label:\")\n",
    "        print(labels[i])\n",
    "        print(\"-\" * 50)  # Separator for readability\n",
    "        \n",
    "def memmap_append_and_save(input_directory, output_directory, dataset_type, file_type):\n",
    "    # Update the output file path to indicate pickle format\n",
    "    output_file_path = os.path.join(output_directory, f\"{dataset_type}_merged_{file_type}.pkl\")\n",
    "\n",
    "    if not os.path.exists(output_directory):\n",
    "        os.makedirs(output_directory)\n",
    "\n",
    "    merged_data = None\n",
    "    current_size = 0\n",
    "\n",
    "    file_names = [fn for fn in os.listdir(input_directory) if fn.endswith(f'_{file_type}.npy') and dataset_type in fn]\n",
    "    for file_name in tqdm(file_names, desc=f\"Merging {dataset_type} {file_type}\"):\n",
    "        path = os.path.join(input_directory, file_name)\n",
    "        data = np.load(path)\n",
    "\n",
    "        # Adjust for both 1D and 2D+ data\n",
    "        new_shape = (current_size + data.shape[0],) + data.shape[1:] if len(data.shape) > 1 else (current_size + data.shape[0],)\n",
    "        if merged_data is None:\n",
    "            # Initially, directly use the loaded data\n",
    "            merged_data = data.copy()\n",
    "        else:\n",
    "            # Concatenate new data\n",
    "            merged_data = np.concatenate((merged_data, data), axis=0)\n",
    "        \n",
    "        current_size += data.shape[0]\n",
    "\n",
    "    # After processing all files, save the merged data using pickle\n",
    "    with open(output_file_path, 'wb') as f:\n",
    "        pickle.dump(merged_data, f, protocol=pickle.HIGHEST_PROTOCOL)\n",
    "    \n",
    "    print(f\"{dataset_type.capitalize()} {file_type} data merged and saved to {output_file_path} in pickle format\")\n",
    "\n",
    "def merge_npy_files_with_memmap_separated(input_directory, output_directory):\n",
    "    for dataset_type in ['train', 'test']:\n",
    "        for file_type in ['sequences', 'labels']:\n",
    "            memmap_append_and_save(input_directory, output_directory, dataset_type, file_type)\n",
    "            \n",
    "def calculate_class_accuracies(predictions, true_labels):\n",
    "    pred_labels = np.argmax(predictions, axis=1)\n",
    "    true_labels = np.argmax(true_labels, axis=1)\n",
    "    \n",
    "    # Initialize a dictionary to store accuracy for each class present in true_labels\n",
    "    class_accuracies = {}\n",
    "    \n",
    "    for class_index in np.unique(true_labels):  # Loop only through classes present in true_labels\n",
    "        class_mask = true_labels == class_index\n",
    "        \n",
    "        # Calculate accuracy for the current class\n",
    "        class_accuracies[class_index] = accuracy_score(true_labels[class_mask], pred_labels[class_mask])\n",
    "    \n",
    "    return class_accuracies\n",
    "\n",
    "def permutation_importance_per_class(model, X_val, y_val, n_repeats=10, n_samples=None):\n",
    "    n_samples = n_samples if n_samples is not None else X_val.shape[0]\n",
    "    random_indices = np.random.choice(X_val.shape[0], size=n_samples, replace=False)\n",
    "    X_val_subset = X_val[random_indices]\n",
    "    y_val_subset = y_val[random_indices]\n",
    "    \n",
    "    # Get baseline class-specific accuracies\n",
    "    baseline_predictions = model.predict(X_val_subset, verbose = 0)\n",
    "    baseline_class_accuracies = calculate_class_accuracies(baseline_predictions, y_val_subset)\n",
    "    \n",
    "    # Prepare storage for importances, using a dictionary to accommodate variable class presence\n",
    "    feature_importances = {class_index: np.zeros((X_val.shape[2], n_repeats)) for class_index in baseline_class_accuracies.keys()}\n",
    "    \n",
    "    for feature_index in tqdm(range(X_val.shape[2]), desc='Calculating Feature Importance'):\n",
    "        for n in range(n_repeats):\n",
    "            saved_feature = X_val_subset[:, :, feature_index].copy()\n",
    "            np.random.shuffle(X_val_subset[:, :, feature_index])\n",
    "            \n",
    "            permuted_predictions = model.predict(X_val_subset, verbose = 0)\n",
    "            permuted_class_accuracies = calculate_class_accuracies(permuted_predictions, y_val_subset)\n",
    "            \n",
    "            for class_index in baseline_class_accuracies.keys():\n",
    "                feature_importances[class_index][feature_index, n] = baseline_class_accuracies[class_index] - permuted_class_accuracies.get(class_index, 0)\n",
    "            \n",
    "            X_val_subset[:, :, feature_index] = saved_feature\n",
    "    \n",
    "    # Average the importance scores across repeats and prepare formatted output\n",
    "    average_importances = {class_index: importances.mean(axis=1) for class_index, importances in feature_importances.items()}\n",
    "    \n",
    "    # Format the output\n",
    "    formatted_importances = {f\"Class {class_index}\": importance.tolist() for class_index, importance in average_importances.items()}\n",
    "    return formatted_importances\n",
    "\n",
    "\n",
    "            \n",
    "def kfold_cross_validation(X, y, num_folds=5):\n",
    "    input_shape = X.shape[1:]  # Assuming X is (num_samples, time_steps, features)\n",
    "    num_classes = y.shape[1]\n",
    "    kfold = KFold(n_splits=num_folds, shuffle=True, random_state=42)\n",
    "\n",
    "    fold_no = 1\n",
    "    for train, test in kfold.split(X, y):\n",
    "        print(f\"Training on fold {fold_no}...\")\n",
    "        \n",
    "        model = create_model(input_shape, num_classes, l2_reg=reg_value)\n",
    "        lr_scheduler = LearningRateScheduler(lr_schedule, verbose=0)\n",
    "        early_stopping = EarlyStopping(monitor='val_loss', patience=50, restore_best_weights=True)\n",
    "        \n",
    "        model.fit(X[train], y[train], validation_data=(X[test], y[test]),\n",
    "                epochs=epochs, batch_size=batch_size, callbacks=[early_stopping, lr_scheduler], verbose=1)\n",
    "        \n",
    "        fold_no += 1\n",
    "        \n",
    "        \n",
    "        \n",
    "# version that takes speed by speed\n",
    "\n",
    "def lr_schedule(epoch, lr):\n",
    "    if epoch % 10 == 0 and epoch > 0:\n",
    "        return lr * 0.1\n",
    "    return lr\n",
    "\n",
    "def load_sequences(sequence_file_path, label_file_path):\n",
    "    sequences = np.load(sequence_file_path)\n",
    "    labels = np.load(label_file_path)\n",
    "    encoder = LabelEncoder()\n",
    "    labels_encoded = encoder.fit_transform(labels)\n",
    "    labels_onehot = to_categorical(labels_encoded)\n",
    "    return sequences, labels_onehot\n",
    "\n",
    "# def create_model(input_shape, num_classes):\n",
    "#     model = Sequential([\n",
    "#         LSTM(100, return_sequences=True, input_shape=input_shape),\n",
    "#         Dropout(0.2),\n",
    "#         LSTM(100),\n",
    "#         Dropout(0.2),\n",
    "#         Dense(100, activation='relu'),\n",
    "#         Dense(num_classes, activation='softmax')\n",
    "#     ])\n",
    "#     model.compile(optimizer=Adam(learning_rate=0.001), loss='categorical_crossentropy', metrics=['accuracy'])\n",
    "#     return model\n",
    "\n",
    "from keras.models import Sequential\n",
    "from keras.layers import LSTM, Dropout, Dense, Input\n",
    "from keras.regularizers import l2\n",
    "from keras.optimizers import Adam\n",
    "from keras import regularizers\n",
    "\n",
    "def create_model(input_shape, num_classes, reg_type='l2', reg_value=0.001, return_logits=False):\n",
    "    if reg_type == 'l2':\n",
    "        regularizer = regularizers.l2(reg_value)\n",
    "    elif reg_type == 'l1':\n",
    "        regularizer = regularizers.l1(reg_value)\n",
    "    else:\n",
    "        raise ValueError(\"Invalid regularizer type. Choose 'l1' or 'l2'.\")\n",
    "\n",
    "    model = Sequential([\n",
    "        Input(shape=input_shape),\n",
    "        LSTM(256, return_sequences=True, kernel_regularizer=regularizer),\n",
    "        Dropout(0.3),\n",
    "        LSTM(128, return_sequences=True, kernel_regularizer=regularizer),\n",
    "        Dropout(0.3),\n",
    "        LSTM(64, kernel_regularizer=regularizer),\n",
    "        Dropout(0.3),\n",
    "        Dense(128, activation='relu', kernel_regularizer=regularizer),\n",
    "        Dropout(0.3),\n",
    "        Dense(64, activation='relu', kernel_regularizer=regularizer),\n",
    "        Dropout(0.3)\n",
    "    ])\n",
    "    \n",
    "    if return_logits:\n",
    "        # If we want the model to return logits, add a Dense layer without activation\n",
    "        model.add(Dense(num_classes))\n",
    "    else:\n",
    "        # Otherwise, add a Dense layer with softmax activation to return probabilities\n",
    "        model.add(Dense(num_classes, activation='softmax'))\n",
    "    \n",
    "    model.compile(optimizer=Adam(learning_rate=0.001), loss='categorical_crossentropy', metrics=['accuracy'])\n",
    "    return model\n"
   ]
  },
  {
   "cell_type": "code",
   "execution_count": 3,
   "metadata": {},
   "outputs": [
    {
     "name": "stderr",
     "output_type": "stream",
     "text": [
      "Processing Variable_speed Variable_speed: 0file [00:00, ?file/s]\n",
      "Processing Variable_speed Experiment8: 100%|██████████| 9/9 [00:19<00:00,  2.14s/file]\n",
      "Processing Variable_speed Experiment4: 100%|██████████| 9/9 [00:20<00:00,  2.25s/file]\n",
      "Processing Variable_speed Experiment6: 100%|██████████| 9/9 [00:19<00:00,  2.19s/file]\n",
      "Processing Variable_speed Experiment2: 100%|██████████| 9/9 [00:17<00:00,  1.95s/file]\n",
      "Processing Variable_speed Experiment5: 100%|██████████| 9/9 [00:17<00:00,  1.91s/file]\n",
      "Processing Variable_speed Experiment1: 100%|██████████| 9/9 [00:15<00:00,  1.69s/file]\n",
      "Processing Variable_speed Experiment9: 100%|██████████| 9/9 [00:17<00:00,  1.92s/file]\n",
      "Processing Variable_speed Experiment7: 100%|██████████| 9/9 [00:17<00:00,  1.96s/file]\n",
      "Processing Variable_speed Experiment3: 100%|██████████| 9/9 [00:19<00:00,  2.19s/file]\n",
      "Processing Variable_speed Experiment10: 100%|██████████| 9/9 [00:18<00:00,  2.05s/file]\n",
      "Processing 40_0 : 100%|██████████| 9/9 [00:17<00:00,  1.97s/file]\n",
      "Processing 30_4 : 100%|██████████| 9/9 [00:15<00:00,  1.76s/file]\n",
      "Processing 30_3 : 100%|██████████| 9/9 [00:18<00:00,  2.10s/file]\n",
      "Processing 20_0 : 100%|██████████| 9/9 [00:16<00:00,  1.78s/file]\n",
      "Processing 30_5 : 100%|██████████| 9/9 [00:14<00:00,  1.59s/file]\n",
      "Processing 30_2 : 100%|██████████| 9/9 [00:15<00:00,  1.75s/file]\n",
      "Processing 50_0 : 100%|██████████| 9/9 [00:16<00:00,  1.87s/file]\n",
      "Processing 30_0 : 100%|██████████| 9/9 [00:15<00:00,  1.77s/file]\n",
      "Processing 30_1 : 100%|██████████| 9/9 [00:16<00:00,  1.88s/file]\n"
     ]
    },
    {
     "name": "stdout",
     "output_type": "stream",
     "text": [
      "Deleted empty file: /home/ubuntu/dds_paper/DDS_Paper/data/DDS_Data_SEU/data/csvs/PGB_Variable_speed_Variable_speed_train.csv\n",
      "Deleted empty file: /home/ubuntu/dds_paper/DDS_Paper/data/DDS_Data_SEU/data/csvs/PGB_Variable_speed_Variable_speed_test.csv\n",
      "                                File Name  Number of Samples   BWF   CTF   CWF   HEA   IRF   MTF   ORF   RCF   SWF\n",
      "                        PGB_20_0_test.csv              36000  4000  4000  4000  4000  4000  4000  4000  4000  4000\n",
      "                       PGB_20_0_train.csv             180000 20000 20000 20000 20000 20000 20000 20000 20000 20000\n",
      "                        PGB_30_0_test.csv              36000  4000  4000  4000  4000  4000  4000  4000  4000  4000\n",
      "                       PGB_30_0_train.csv             180000 20000 20000 20000 20000 20000 20000 20000 20000 20000\n",
      "                        PGB_30_1_test.csv              36000  4000  4000  4000  4000  4000  4000  4000  4000  4000\n",
      "                       PGB_30_1_train.csv             180000 20000 20000 20000 20000 20000 20000 20000 20000 20000\n",
      "                        PGB_30_2_test.csv              36000  4000  4000  4000  4000  4000  4000  4000  4000  4000\n",
      "                       PGB_30_2_train.csv             180000 20000 20000 20000 20000 20000 20000 20000 20000 20000\n",
      "                        PGB_30_3_test.csv              36000  4000  4000  4000  4000  4000  4000  4000  4000  4000\n",
      "                       PGB_30_3_train.csv             180000 20000 20000 20000 20000 20000 20000 20000 20000 20000\n",
      "                        PGB_30_4_test.csv              36000  4000  4000  4000  4000  4000  4000  4000  4000  4000\n",
      "                       PGB_30_4_train.csv             180000 20000 20000 20000 20000 20000 20000 20000 20000 20000\n",
      "                        PGB_30_5_test.csv              36000  4000  4000  4000  4000  4000  4000  4000  4000  4000\n",
      "                       PGB_30_5_train.csv             180000 20000 20000 20000 20000 20000 20000 20000 20000 20000\n",
      "                        PGB_40_0_test.csv              36000  4000  4000  4000  4000  4000  4000  4000  4000  4000\n",
      "                       PGB_40_0_train.csv             180000 20000 20000 20000 20000 20000 20000 20000 20000 20000\n",
      "                        PGB_50_0_test.csv              36000  4000  4000  4000  4000  4000  4000  4000  4000  4000\n",
      "                       PGB_50_0_train.csv             180000 20000 20000 20000 20000 20000 20000 20000 20000 20000\n",
      " PGB_Variable_speed_Experiment10_test.csv              36000  4000  4000  4000  4000  4000  4000  4000  4000  4000\n",
      "PGB_Variable_speed_Experiment10_train.csv             180000 20000 20000 20000 20000 20000 20000 20000 20000 20000\n",
      "  PGB_Variable_speed_Experiment1_test.csv              36000  4000  4000  4000  4000  4000  4000  4000  4000  4000\n",
      " PGB_Variable_speed_Experiment1_train.csv             180000 20000 20000 20000 20000 20000 20000 20000 20000 20000\n",
      "  PGB_Variable_speed_Experiment2_test.csv              36000  4000  4000  4000  4000  4000  4000  4000  4000  4000\n",
      " PGB_Variable_speed_Experiment2_train.csv             180000 20000 20000 20000 20000 20000 20000 20000 20000 20000\n",
      "  PGB_Variable_speed_Experiment3_test.csv              36000  4000  4000  4000  4000  4000  4000  4000  4000  4000\n",
      " PGB_Variable_speed_Experiment3_train.csv             180000 20000 20000 20000 20000 20000 20000 20000 20000 20000\n",
      "  PGB_Variable_speed_Experiment4_test.csv              36000  4000  4000  4000  4000  4000  4000  4000  4000  4000\n",
      " PGB_Variable_speed_Experiment4_train.csv             180000 20000 20000 20000 20000 20000 20000 20000 20000 20000\n",
      "  PGB_Variable_speed_Experiment5_test.csv              36000  4000  4000  4000  4000  4000  4000  4000  4000  4000\n",
      " PGB_Variable_speed_Experiment5_train.csv             180000 20000 20000 20000 20000 20000 20000 20000 20000 20000\n",
      "  PGB_Variable_speed_Experiment6_test.csv              36000  4000  4000  4000  4000  4000  4000  4000  4000  4000\n",
      " PGB_Variable_speed_Experiment6_train.csv             180000 20000 20000 20000 20000 20000 20000 20000 20000 20000\n",
      "  PGB_Variable_speed_Experiment7_test.csv              36000  4000  4000  4000  4000  4000  4000  4000  4000  4000\n",
      " PGB_Variable_speed_Experiment7_train.csv             180000 20000 20000 20000 20000 20000 20000 20000 20000 20000\n",
      "  PGB_Variable_speed_Experiment8_test.csv              36000  4000  4000  4000  4000  4000  4000  4000  4000  4000\n",
      " PGB_Variable_speed_Experiment8_train.csv             180000 20000 20000 20000 20000 20000 20000 20000 20000 20000\n",
      "  PGB_Variable_speed_Experiment9_test.csv              36000  4000  4000  4000  4000  4000  4000  4000  4000  4000\n",
      " PGB_Variable_speed_Experiment9_train.csv             180000 20000 20000 20000 20000 20000 20000 20000 20000 20000\n"
     ]
    }
   ],
   "source": [
    "process_pgb_data(data_root_folder, csv_directory, num_train_samples, num_test_samples)\n",
    "overview_csv_files(csv_directory)"
   ]
  },
  {
   "cell_type": "code",
   "execution_count": 4,
   "metadata": {},
   "outputs": [
    {
     "name": "stderr",
     "output_type": "stream",
     "text": [
      "Generating sequences: 100%|██████████| 58/58 [00:31<00:00,  1.83it/s]\n"
     ]
    }
   ],
   "source": [
    "# scale data\n",
    "\n",
    "# Iterate over your dataset files\n",
    "for root, dirs, files in os.walk(csv_directory):\n",
    "    for file in sorted(files):\n",
    "        if file.endswith('.csv') and not file.endswith('_scaled.csv'):  # Process only unscaled .csv files\n",
    "            csv_path = os.path.join(root, file)\n",
    "            if 'train' in file:\n",
    "                # Handle training data\n",
    "                scaler_path = os.path.join(root, 'scaler_' + file.replace('.csv', '.joblib'))\n",
    "                scaled_train_df = load_and_scale_data(csv_path, save_scaler_path=scaler_path)\n",
    "                # Save the scaled training data\n",
    "                scaled_csv_path = csv_path.replace('.csv', '_scaled.csv')\n",
    "                scaled_train_df.to_csv(scaled_csv_path, index=False)\n",
    "            elif 'test' in file:\n",
    "                # Handle testing data\n",
    "                scaler_path = os.path.join(root, 'scaler_' + file.replace('_test.csv', '_train.joblib'))\n",
    "                scaler = joblib.load(scaler_path) if os.path.exists(scaler_path) else None\n",
    "                scaled_test_df = load_and_scale_data(csv_path, scaler=scaler)\n",
    "                # Save the scaled testing data\n",
    "                scaled_csv_path = csv_path.replace('.csv', '_scaled.csv')\n",
    "                scaled_test_df.to_csv(scaled_csv_path, index=False)\n",
    "\n",
    "            # Delete the original unscaled .csv file\n",
    "            os.remove(csv_path)\n",
    "            \n",
    "#create sequences\n",
    "save_sequences(csv_directory, sequences_directory, sequence_length)\n",
    "\n",
    "#add_speed_feature_and_save(csv_directory, sequences_directory, sequence_length)\n",
    "\n",
    "#merge_npy_files_with_memmap_separated(sequences_directory, sequences_directory)"
   ]
  },
  {
   "cell_type": "markdown",
   "metadata": {},
   "source": [
    "# Training the model"
   ]
  },
  {
   "cell_type": "code",
   "execution_count": 6,
   "metadata": {},
   "outputs": [
    {
     "data": {
      "text/html": [
       "<pre style=\"white-space:pre;overflow-x:auto;line-height:normal;font-family:Menlo,'DejaVu Sans Mono',consolas,'Courier New',monospace\"><span style=\"color: #008000; text-decoration-color: #008000; font-weight: bold\">Training fold </span><span style=\"color: #008000; text-decoration-color: #008000; font-weight: bold\">1</span><span style=\"color: #008000; text-decoration-color: #008000; font-weight: bold\">/</span><span style=\"color: #008000; text-decoration-color: #008000; font-weight: bold\">4</span><span style=\"color: #008000; text-decoration-color: #008000; font-weight: bold\"> for PGB_20_0</span>\n",
       "</pre>\n"
      ],
      "text/plain": [
       "\u001b[1;32mTraining fold \u001b[0m\u001b[1;32m1\u001b[0m\u001b[1;32m/\u001b[0m\u001b[1;32m4\u001b[0m\u001b[1;32m for PGB_20_0\u001b[0m\n"
      ]
     },
     "metadata": {},
     "output_type": "display_data"
    },
    {
     "name": "stdout",
     "output_type": "stream",
     "text": [
      "316/316 [==============================] - 125s 381ms/step - loss: 2.4471 - accuracy: 0.7496 - val_loss: 3.4569 - val_accuracy: 0.2518 - lr: 0.0010\n"
     ]
    },
    {
     "name": "stderr",
     "output_type": "stream",
     "text": [
      "/home/ubuntu/miniconda3/envs/ltn/lib/python3.10/site-packages/keras/src/engine/training.py:3079: UserWarning: You are saving your model as an HDF5 file via `model.save()`. This file format is considered legacy. We recommend using instead the native Keras format, e.g. `model.save('my_model.keras')`.\n",
      "  saving_api.save_model(\n"
     ]
    },
    {
     "name": "stdout",
     "output_type": "stream",
     "text": [
      "1684/1684 [==============================] - 77s 45ms/step\n"
     ]
    },
    {
     "data": {
      "text/html": [
       "<pre style=\"white-space:pre;overflow-x:auto;line-height:normal;font-family:Menlo,'DejaVu Sans Mono',consolas,'Courier New',monospace\">Fold <span style=\"color: #008080; text-decoration-color: #008080; font-weight: bold\">1</span> Accuracy: <span style=\"color: #008080; text-decoration-color: #008080; font-weight: bold\">0.2518</span>, Precision: <span style=\"color: #008080; text-decoration-color: #008080; font-weight: bold\">0.2499</span>, Recall: <span style=\"color: #008080; text-decoration-color: #008080; font-weight: bold\">0.1210</span>, F1: <span style=\"color: #008080; text-decoration-color: #008080; font-weight: bold\">0.1254</span>\n",
       "</pre>\n"
      ],
      "text/plain": [
       "Fold \u001b[1;36m1\u001b[0m Accuracy: \u001b[1;36m0.2518\u001b[0m, Precision: \u001b[1;36m0.2499\u001b[0m, Recall: \u001b[1;36m0.1210\u001b[0m, F1: \u001b[1;36m0.1254\u001b[0m\n"
      ]
     },
     "metadata": {},
     "output_type": "display_data"
    },
    {
     "name": "stderr",
     "output_type": "stream",
     "text": [
      "Calculating Feature Importance: 100%|██████████| 8/8 [00:24<00:00,  3.09s/it]\n"
     ]
    },
    {
     "data": {
      "text/html": [
       "<pre style=\"white-space:pre;overflow-x:auto;line-height:normal;font-family:Menlo,'DejaVu Sans Mono',consolas,'Courier New',monospace\"><span style=\"color: #008000; text-decoration-color: #008000; font-weight: bold\">Training fold </span><span style=\"color: #008000; text-decoration-color: #008000; font-weight: bold\">2</span><span style=\"color: #008000; text-decoration-color: #008000; font-weight: bold\">/</span><span style=\"color: #008000; text-decoration-color: #008000; font-weight: bold\">4</span><span style=\"color: #008000; text-decoration-color: #008000; font-weight: bold\"> for PGB_20_0</span>\n",
       "</pre>\n"
      ],
      "text/plain": [
       "\u001b[1;32mTraining fold \u001b[0m\u001b[1;32m2\u001b[0m\u001b[1;32m/\u001b[0m\u001b[1;32m4\u001b[0m\u001b[1;32m for PGB_20_0\u001b[0m\n"
      ]
     },
     "metadata": {},
     "output_type": "display_data"
    },
    {
     "name": "stdout",
     "output_type": "stream",
     "text": [
      "316/316 [==============================] - 125s 376ms/step - loss: 2.6820 - accuracy: 0.6209 - val_loss: 3.4745 - val_accuracy: 0.2388 - lr: 0.0010\n"
     ]
    },
    {
     "name": "stderr",
     "output_type": "stream",
     "text": [
      "/home/ubuntu/miniconda3/envs/ltn/lib/python3.10/site-packages/keras/src/engine/training.py:3079: UserWarning: You are saving your model as an HDF5 file via `model.save()`. This file format is considered legacy. We recommend using instead the native Keras format, e.g. `model.save('my_model.keras')`.\n",
      "  saving_api.save_model(\n"
     ]
    },
    {
     "name": "stdout",
     "output_type": "stream",
     "text": [
      "1684/1684 [==============================] - 77s 45ms/step\n"
     ]
    },
    {
     "data": {
      "text/html": [
       "<pre style=\"white-space:pre;overflow-x:auto;line-height:normal;font-family:Menlo,'DejaVu Sans Mono',consolas,'Courier New',monospace\">Fold <span style=\"color: #008080; text-decoration-color: #008080; font-weight: bold\">2</span> Accuracy: <span style=\"color: #008080; text-decoration-color: #008080; font-weight: bold\">0.2388</span>, Precision: <span style=\"color: #008080; text-decoration-color: #008080; font-weight: bold\">0.3750</span>, Recall: <span style=\"color: #008080; text-decoration-color: #008080; font-weight: bold\">0.1677</span>, F1: <span style=\"color: #008080; text-decoration-color: #008080; font-weight: bold\">0.1887</span>\n",
       "</pre>\n"
      ],
      "text/plain": [
       "Fold \u001b[1;36m2\u001b[0m Accuracy: \u001b[1;36m0.2388\u001b[0m, Precision: \u001b[1;36m0.3750\u001b[0m, Recall: \u001b[1;36m0.1677\u001b[0m, F1: \u001b[1;36m0.1887\u001b[0m\n"
      ]
     },
     "metadata": {},
     "output_type": "display_data"
    },
    {
     "name": "stderr",
     "output_type": "stream",
     "text": [
      "Calculating Feature Importance: 100%|██████████| 8/8 [00:24<00:00,  3.10s/it]\n"
     ]
    },
    {
     "data": {
      "text/html": [
       "<pre style=\"white-space:pre;overflow-x:auto;line-height:normal;font-family:Menlo,'DejaVu Sans Mono',consolas,'Courier New',monospace\"><span style=\"color: #008000; text-decoration-color: #008000; font-weight: bold\">Training fold </span><span style=\"color: #008000; text-decoration-color: #008000; font-weight: bold\">3</span><span style=\"color: #008000; text-decoration-color: #008000; font-weight: bold\">/</span><span style=\"color: #008000; text-decoration-color: #008000; font-weight: bold\">4</span><span style=\"color: #008000; text-decoration-color: #008000; font-weight: bold\"> for PGB_20_0</span>\n",
       "</pre>\n"
      ],
      "text/plain": [
       "\u001b[1;32mTraining fold \u001b[0m\u001b[1;32m3\u001b[0m\u001b[1;32m/\u001b[0m\u001b[1;32m4\u001b[0m\u001b[1;32m for PGB_20_0\u001b[0m\n"
      ]
     },
     "metadata": {},
     "output_type": "display_data"
    },
    {
     "name": "stdout",
     "output_type": "stream",
     "text": [
      "316/316 [==============================] - 124s 375ms/step - loss: 2.4611 - accuracy: 0.7544 - val_loss: 2.1201 - val_accuracy: 0.5308 - lr: 0.0010\n"
     ]
    },
    {
     "name": "stderr",
     "output_type": "stream",
     "text": [
      "/home/ubuntu/miniconda3/envs/ltn/lib/python3.10/site-packages/keras/src/engine/training.py:3079: UserWarning: You are saving your model as an HDF5 file via `model.save()`. This file format is considered legacy. We recommend using instead the native Keras format, e.g. `model.save('my_model.keras')`.\n",
      "  saving_api.save_model(\n"
     ]
    },
    {
     "name": "stdout",
     "output_type": "stream",
     "text": [
      "1684/1684 [==============================] - 79s 46ms/step\n"
     ]
    },
    {
     "data": {
      "text/html": [
       "<pre style=\"white-space:pre;overflow-x:auto;line-height:normal;font-family:Menlo,'DejaVu Sans Mono',consolas,'Courier New',monospace\">Fold <span style=\"color: #008080; text-decoration-color: #008080; font-weight: bold\">3</span> Accuracy: <span style=\"color: #008080; text-decoration-color: #008080; font-weight: bold\">0.5308</span>, Precision: <span style=\"color: #008080; text-decoration-color: #008080; font-weight: bold\">0.4885</span>, Recall: <span style=\"color: #008080; text-decoration-color: #008080; font-weight: bold\">0.3712</span>, F1: <span style=\"color: #008080; text-decoration-color: #008080; font-weight: bold\">0.3610</span>\n",
       "</pre>\n"
      ],
      "text/plain": [
       "Fold \u001b[1;36m3\u001b[0m Accuracy: \u001b[1;36m0.5308\u001b[0m, Precision: \u001b[1;36m0.4885\u001b[0m, Recall: \u001b[1;36m0.3712\u001b[0m, F1: \u001b[1;36m0.3610\u001b[0m\n"
      ]
     },
     "metadata": {},
     "output_type": "display_data"
    },
    {
     "name": "stderr",
     "output_type": "stream",
     "text": [
      "Calculating Feature Importance: 100%|██████████| 8/8 [00:24<00:00,  3.07s/it]\n"
     ]
    },
    {
     "data": {
      "text/html": [
       "<pre style=\"white-space:pre;overflow-x:auto;line-height:normal;font-family:Menlo,'DejaVu Sans Mono',consolas,'Courier New',monospace\"><span style=\"color: #008000; text-decoration-color: #008000; font-weight: bold\">Training fold </span><span style=\"color: #008000; text-decoration-color: #008000; font-weight: bold\">4</span><span style=\"color: #008000; text-decoration-color: #008000; font-weight: bold\">/</span><span style=\"color: #008000; text-decoration-color: #008000; font-weight: bold\">4</span><span style=\"color: #008000; text-decoration-color: #008000; font-weight: bold\"> for PGB_20_0</span>\n",
       "</pre>\n"
      ],
      "text/plain": [
       "\u001b[1;32mTraining fold \u001b[0m\u001b[1;32m4\u001b[0m\u001b[1;32m/\u001b[0m\u001b[1;32m4\u001b[0m\u001b[1;32m for PGB_20_0\u001b[0m\n"
      ]
     },
     "metadata": {},
     "output_type": "display_data"
    },
    {
     "name": "stdout",
     "output_type": "stream",
     "text": [
      "316/316 [==============================] - 121s 366ms/step - loss: 2.6941 - accuracy: 0.6386 - val_loss: 3.0790 - val_accuracy: 0.3353 - lr: 0.0010\n"
     ]
    },
    {
     "name": "stderr",
     "output_type": "stream",
     "text": [
      "/home/ubuntu/miniconda3/envs/ltn/lib/python3.10/site-packages/keras/src/engine/training.py:3079: UserWarning: You are saving your model as an HDF5 file via `model.save()`. This file format is considered legacy. We recommend using instead the native Keras format, e.g. `model.save('my_model.keras')`.\n",
      "  saving_api.save_model(\n"
     ]
    },
    {
     "name": "stdout",
     "output_type": "stream",
     "text": [
      "1684/1684 [==============================] - 78s 46ms/step\n"
     ]
    },
    {
     "data": {
      "text/html": [
       "<pre style=\"white-space:pre;overflow-x:auto;line-height:normal;font-family:Menlo,'DejaVu Sans Mono',consolas,'Courier New',monospace\">Fold <span style=\"color: #008080; text-decoration-color: #008080; font-weight: bold\">4</span> Accuracy: <span style=\"color: #008080; text-decoration-color: #008080; font-weight: bold\">0.3353</span>, Precision: <span style=\"color: #008080; text-decoration-color: #008080; font-weight: bold\">0.3728</span>, Recall: <span style=\"color: #008080; text-decoration-color: #008080; font-weight: bold\">0.5053</span>, F1: <span style=\"color: #008080; text-decoration-color: #008080; font-weight: bold\">0.3916</span>\n",
       "</pre>\n"
      ],
      "text/plain": [
       "Fold \u001b[1;36m4\u001b[0m Accuracy: \u001b[1;36m0.3353\u001b[0m, Precision: \u001b[1;36m0.3728\u001b[0m, Recall: \u001b[1;36m0.5053\u001b[0m, F1: \u001b[1;36m0.3916\u001b[0m\n"
      ]
     },
     "metadata": {},
     "output_type": "display_data"
    },
    {
     "name": "stderr",
     "output_type": "stream",
     "text": [
      "Calculating Feature Importance: 100%|██████████| 8/8 [00:25<00:00,  3.20s/it]\n"
     ]
    },
    {
     "data": {
      "text/html": [
       "<pre style=\"white-space:pre;overflow-x:auto;line-height:normal;font-family:Menlo,'DejaVu Sans Mono',consolas,'Courier New',monospace\"><span style=\"color: #800080; text-decoration-color: #800080; font-weight: bold\">Average metrics for PGB_20_0 across </span><span style=\"color: #800080; text-decoration-color: #800080; font-weight: bold\">4</span><span style=\"color: #800080; text-decoration-color: #800080; font-weight: bold\"> folds:</span>\n",
       "</pre>\n"
      ],
      "text/plain": [
       "\u001b[1;35mAverage metrics for PGB_20_0 across \u001b[0m\u001b[1;35m4\u001b[0m\u001b[1;35m folds:\u001b[0m\n"
      ]
     },
     "metadata": {},
     "output_type": "display_data"
    },
    {
     "data": {
      "text/html": [
       "<pre style=\"white-space:pre;overflow-x:auto;line-height:normal;font-family:Menlo,'DejaVu Sans Mono',consolas,'Courier New',monospace\">Average Accuracy: <span style=\"color: #008080; text-decoration-color: #008080; font-weight: bold\">0.3391</span>\n",
       "</pre>\n"
      ],
      "text/plain": [
       "Average Accuracy: \u001b[1;36m0.3391\u001b[0m\n"
      ]
     },
     "metadata": {},
     "output_type": "display_data"
    },
    {
     "data": {
      "text/html": [
       "<pre style=\"white-space:pre;overflow-x:auto;line-height:normal;font-family:Menlo,'DejaVu Sans Mono',consolas,'Courier New',monospace\">Average Precision: <span style=\"color: #008080; text-decoration-color: #008080; font-weight: bold\">0.3716</span>\n",
       "</pre>\n"
      ],
      "text/plain": [
       "Average Precision: \u001b[1;36m0.3716\u001b[0m\n"
      ]
     },
     "metadata": {},
     "output_type": "display_data"
    },
    {
     "data": {
      "text/html": [
       "<pre style=\"white-space:pre;overflow-x:auto;line-height:normal;font-family:Menlo,'DejaVu Sans Mono',consolas,'Courier New',monospace\">Average Recall: <span style=\"color: #008080; text-decoration-color: #008080; font-weight: bold\">0.2913</span>\n",
       "</pre>\n"
      ],
      "text/plain": [
       "Average Recall: \u001b[1;36m0.2913\u001b[0m\n"
      ]
     },
     "metadata": {},
     "output_type": "display_data"
    },
    {
     "data": {
      "text/html": [
       "<pre style=\"white-space:pre;overflow-x:auto;line-height:normal;font-family:Menlo,'DejaVu Sans Mono',consolas,'Courier New',monospace\">Average F1: <span style=\"color: #008080; text-decoration-color: #008080; font-weight: bold\">0.2667</span>\n",
       "\n",
       "</pre>\n"
      ],
      "text/plain": [
       "Average F1: \u001b[1;36m0.2667\u001b[0m\n",
       "\n"
      ]
     },
     "metadata": {},
     "output_type": "display_data"
    },
    {
     "data": {
      "text/html": [
       "<pre style=\"white-space:pre;overflow-x:auto;line-height:normal;font-family:Menlo,'DejaVu Sans Mono',consolas,'Courier New',monospace\"><span style=\"color: #000080; text-decoration-color: #000080; font-weight: bold\">Model for PGB_20_0 saved.</span>\n",
       "</pre>\n"
      ],
      "text/plain": [
       "\u001b[1;34mModel for PGB_20_0 saved.\u001b[0m\n"
      ]
     },
     "metadata": {},
     "output_type": "display_data"
    },
    {
     "data": {
      "text/html": [
       "<pre style=\"white-space:pre;overflow-x:auto;line-height:normal;font-family:Menlo,'DejaVu Sans Mono',consolas,'Courier New',monospace\"><span style=\"color: #000080; text-decoration-color: #000080; font-weight: bold\">Overall Averages Across All File Pairs:</span>\n",
       "</pre>\n"
      ],
      "text/plain": [
       "\u001b[1;34mOverall Averages Across All File Pairs:\u001b[0m\n"
      ]
     },
     "metadata": {},
     "output_type": "display_data"
    },
    {
     "data": {
      "text/html": [
       "<pre style=\"white-space:pre;overflow-x:auto;line-height:normal;font-family:Menlo,'DejaVu Sans Mono',consolas,'Courier New',monospace\">Overall Average Accuracy: <span style=\"color: #008080; text-decoration-color: #008080; font-weight: bold\">0.3391</span>\n",
       "</pre>\n"
      ],
      "text/plain": [
       "Overall Average Accuracy: \u001b[1;36m0.3391\u001b[0m\n"
      ]
     },
     "metadata": {},
     "output_type": "display_data"
    },
    {
     "data": {
      "text/html": [
       "<pre style=\"white-space:pre;overflow-x:auto;line-height:normal;font-family:Menlo,'DejaVu Sans Mono',consolas,'Courier New',monospace\">Overall Average Precision: <span style=\"color: #008080; text-decoration-color: #008080; font-weight: bold\">0.3716</span>\n",
       "</pre>\n"
      ],
      "text/plain": [
       "Overall Average Precision: \u001b[1;36m0.3716\u001b[0m\n"
      ]
     },
     "metadata": {},
     "output_type": "display_data"
    },
    {
     "data": {
      "text/html": [
       "<pre style=\"white-space:pre;overflow-x:auto;line-height:normal;font-family:Menlo,'DejaVu Sans Mono',consolas,'Courier New',monospace\">Overall Average Recall: <span style=\"color: #008080; text-decoration-color: #008080; font-weight: bold\">0.2913</span>\n",
       "</pre>\n"
      ],
      "text/plain": [
       "Overall Average Recall: \u001b[1;36m0.2913\u001b[0m\n"
      ]
     },
     "metadata": {},
     "output_type": "display_data"
    },
    {
     "data": {
      "text/html": [
       "<pre style=\"white-space:pre;overflow-x:auto;line-height:normal;font-family:Menlo,'DejaVu Sans Mono',consolas,'Courier New',monospace\">Overall Average F1: <span style=\"color: #008080; text-decoration-color: #008080; font-weight: bold\">0.2667</span>\n",
       "</pre>\n"
      ],
      "text/plain": [
       "Overall Average F1: \u001b[1;36m0.2667\u001b[0m\n"
      ]
     },
     "metadata": {},
     "output_type": "display_data"
    }
   ],
   "source": [
    "\n",
    "kf = KFold(n_splits=n_splits, shuffle=False)\n",
    "counter = 0\n",
    "console = Console()\n",
    "\n",
    "# Placeholder for processed base names and metrics\n",
    "processed_bases = set()\n",
    "metrics_summary = []\n",
    "\n",
    "for file in sorted(os.listdir(sequences_directory)):\n",
    "    if \"_train_scaled_sequences.npy\" in file:\n",
    "        base_name = file.replace(\"_train_scaled_sequences.npy\", \"\")\n",
    "        if base_name in processed_bases:\n",
    "            continue\n",
    "        counter+=1\n",
    "        \n",
    "        model_filepath = os.path.join(model_save_directory, f\"saved.h5\")\n",
    "        \n",
    "            \n",
    "            \n",
    "        # Load sequences and labels\n",
    "        train_sequence_file_path = os.path.join(sequences_directory, f\"{base_name}_train_scaled_sequences.npy\")\n",
    "        train_label_file_path = os.path.join(sequences_directory, f\"{base_name}_train_scaled_labels.npy\")\n",
    "        X_train, y_train = load_sequences(train_sequence_file_path, train_label_file_path)\n",
    "\n",
    "        # Assuming the existence of a test set (adjust if necessary)\n",
    "        test_sequence_file_path = os.path.join(sequences_directory, f\"{base_name}_test_scaled_sequences.npy\")\n",
    "        test_label_file_path = os.path.join(sequences_directory, f\"{base_name}_test_scaled_labels.npy\")\n",
    "        X_test, y_test = load_sequences(test_sequence_file_path, test_label_file_path)\n",
    "\n",
    "        # Merge for cross-validation\n",
    "        X = np.concatenate((X_train, X_test), axis=0)\n",
    "        y = np.concatenate((y_train, y_test), axis=0)\n",
    "\n",
    "        num_classes = y_train.shape[1]\n",
    "        input_shape = (sequence_length, num_features)\n",
    "        fold_metrics = []\n",
    "\n",
    "        for fold, (train_idx, val_idx) in enumerate(kf.split(X, y)):\n",
    "            console.print(f\"[bold green]Training fold {fold + 1}/{n_splits} for {base_name}[/]\")\n",
    "            X_train_fold, X_val_fold = X[train_idx], X[val_idx]\n",
    "            y_train_fold, y_val_fold = y[train_idx], y[val_idx]\n",
    "\n",
    "            model = create_model(input_shape, num_classes, reg_type = reg_type, reg_value=reg_value)\n",
    "            lr_scheduler = LearningRateScheduler(lr_schedule)\n",
    "            early_stopping = EarlyStopping(monitor='val_loss', patience=patience, restore_best_weights=True)\n",
    "\n",
    "            # Add ModelCheckpoint and TensorBoard for improved monitoring and model saving\n",
    "            model_filepath = os.path.join(model_save_directory, f\"model_{base_name}_fold_{fold+1}.h5\")\n",
    "            checkpoint = ModelCheckpoint(model_filepath, save_best_only=True, monitor='val_loss')\n",
    "            tensorboard = TensorBoard(log_dir=f\"./logs/{base_name}_fold_{fold+1}\")\n",
    "\n",
    "\n",
    "\n",
    "            history = model.fit(X_train_fold, y_train_fold, validation_data=(X_val_fold, y_val_fold),\n",
    "                                epochs=epochs, batch_size=batch_size, callbacks=[early_stopping, lr_scheduler, checkpoint, tensorboard], verbose=1)\n",
    "\n",
    "            \n",
    "            # Assuming your model outputs softmax probabilities, adjust as necessary\n",
    "            y_val_pred = model.predict(X_val_fold)\n",
    "            y_val_pred_classes = np.argmax(y_val_pred, axis=1)\n",
    "            y_val_true_classes = np.argmax(y_val_fold, axis=1)\n",
    "\n",
    "            # Calculate and store metrics for this fold\n",
    "            accuracy = accuracy_score(y_val_true_classes, y_val_pred_classes)\n",
    "            precision = precision_score(y_val_true_classes, y_val_pred_classes, average='macro', zero_division=0)\n",
    "            recall = recall_score(y_val_true_classes, y_val_pred_classes, average='macro', zero_division=0)\n",
    "            f1 = f1_score(y_val_true_classes, y_val_pred_classes, average='macro')\n",
    "            fold_metrics.append((accuracy, precision, recall, f1))\n",
    "\n",
    "            console.print(f\"Fold {fold+1} Accuracy: {accuracy:.4f}, Precision: {precision:.4f}, Recall: {recall:.4f}, F1: {f1:.4f}\")\n",
    "            \n",
    "            class_importances = permutation_importance_per_class(model, X_val_fold, y_val_fold, n_repeats=4, n_samples=n_samples)\n",
    "\n",
    "\n",
    "            \n",
    "                # After processing all folds for the current CSV pair\n",
    "        if fold_metrics:\n",
    "            # Calculate the average of each metric across all folds\n",
    "            avg_accuracy = mean([metric[0] for metric in fold_metrics])\n",
    "            avg_precision = mean([metric[1] for metric in fold_metrics])\n",
    "            avg_recall = mean([metric[2] for metric in fold_metrics])\n",
    "            avg_f1 = mean([metric[3] for metric in fold_metrics])\n",
    "\n",
    "            # Append averaged metrics to the metrics_summary for overall analysis if needed\n",
    "            metrics_summary.append((base_name, avg_accuracy, avg_precision, avg_recall, avg_f1))\n",
    "\n",
    "            # Print the averages\n",
    "            console.print(f\"[bold magenta]Average metrics for {base_name} across {n_splits} folds:[/]\")\n",
    "            console.print(f\"Average Accuracy: {avg_accuracy:.4f}\")\n",
    "            console.print(f\"Average Precision: {avg_precision:.4f}\")\n",
    "            console.print(f\"Average Recall: {avg_recall:.4f}\")\n",
    "            console.print(f\"Average F1: {avg_f1:.4f}\\n\")\n",
    "        \n",
    "\n",
    "        \n",
    "    if counter!=0:\n",
    "        break\n",
    "\n",
    "\n",
    "console.print(f\"[bold blue]Model for {base_name} saved.[/]\")\n",
    "# Optionally, after all file pairs have been processed, print a summary of averages across all file pairs\n",
    "console.print(\"[bold blue]Overall Averages Across All File Pairs:[/]\")\n",
    "overall_avg_accuracy = mean([metrics[1] for metrics in metrics_summary])\n",
    "overall_avg_precision = mean([metrics[2] for metrics in metrics_summary])\n",
    "overall_avg_recall = mean([metrics[3] for metrics in metrics_summary])\n",
    "overall_avg_f1 = mean([metrics[4] for metrics in metrics_summary])\n",
    "\n",
    "console.print(f\"Overall Average Accuracy: {overall_avg_accuracy:.4f}\")\n",
    "console.print(f\"Overall Average Precision: {overall_avg_precision:.4f}\")\n",
    "console.print(f\"Overall Average Recall: {overall_avg_recall:.4f}\")\n",
    "console.print(f\"Overall Average F1: {overall_avg_f1:.4f}\")\n"
   ]
  },
  {
   "cell_type": "code",
   "execution_count": 8,
   "metadata": {},
   "outputs": [
    {
     "data": {
      "text/html": [
       "<pre style=\"white-space:pre;overflow-x:auto;line-height:normal;font-family:Menlo,'DejaVu Sans Mono',consolas,'Courier New',monospace\"><span style=\"color: #000080; text-decoration-color: #000080; font-weight: bold\">Model for PGB_20_0 saved.</span>\n",
       "</pre>\n"
      ],
      "text/plain": [
       "\u001b[1;34mModel for PGB_20_0 saved.\u001b[0m\n"
      ]
     },
     "metadata": {},
     "output_type": "display_data"
    }
   ],
   "source": [
    "# Save the model at the end\n",
    "model.save(model_path)\n",
    "console.print(f\"[bold blue]Model for {base_name} saved.[/]\")"
   ]
  },
  {
   "cell_type": "code",
   "execution_count": 26,
   "metadata": {},
   "outputs": [],
   "source": [
    "model = load_weights(model_path)"
   ]
  },
  {
   "cell_type": "code",
   "execution_count": 3,
   "metadata": {},
   "outputs": [
    {
     "ename": "NameError",
     "evalue": "name 'X_val_fold' is not defined",
     "output_type": "error",
     "traceback": [
      "\u001b[0;31m---------------------------------------------------------------------------\u001b[0m",
      "\u001b[0;31mNameError\u001b[0m                                 Traceback (most recent call last)",
      "Cell \u001b[0;32mIn[3], line 54\u001b[0m\n\u001b[1;32m     51\u001b[0m     \u001b[38;5;28;01mreturn\u001b[39;00m formatted_importances\n\u001b[1;32m     53\u001b[0m \u001b[38;5;66;03m# Example usage\u001b[39;00m\n\u001b[0;32m---> 54\u001b[0m n_samples \u001b[38;5;241m=\u001b[39m \u001b[38;5;241m500\u001b[39m \u001b[38;5;28;01mif\u001b[39;00m \u001b[43mX_val_fold\u001b[49m\u001b[38;5;241m.\u001b[39mshape[\u001b[38;5;241m0\u001b[39m] \u001b[38;5;241m>\u001b[39m \u001b[38;5;241m1000\u001b[39m \u001b[38;5;28;01melse\u001b[39;00m X_val_fold\u001b[38;5;241m.\u001b[39mshape[\u001b[38;5;241m0\u001b[39m]\n\u001b[1;32m     55\u001b[0m class_importances \u001b[38;5;241m=\u001b[39m permutation_importance_per_class(model, X_val_fold, y_val_fold, n_repeats\u001b[38;5;241m=\u001b[39m\u001b[38;5;241m4\u001b[39m, n_samples\u001b[38;5;241m=\u001b[39mn_samples)\n\u001b[1;32m     57\u001b[0m \u001b[38;5;28;01mfor\u001b[39;00m class_id, importances \u001b[38;5;129;01min\u001b[39;00m class_importances\u001b[38;5;241m.\u001b[39mitems():\n",
      "\u001b[0;31mNameError\u001b[0m: name 'X_val_fold' is not defined"
     ]
    }
   ],
   "source": [
    "import numpy as np\n",
    "from tqdm import tqdm\n",
    "from sklearn.metrics import accuracy_score\n",
    "\n",
    "def calculate_class_accuracies(predictions, true_labels):\n",
    "    pred_labels = np.argmax(predictions, axis=1)\n",
    "    true_labels = np.argmax(true_labels, axis=1)\n",
    "    \n",
    "    # Initialize a dictionary to store accuracy for each class present in true_labels\n",
    "    class_accuracies = {}\n",
    "    \n",
    "    for class_index in np.unique(true_labels):  # Loop only through classes present in true_labels\n",
    "        class_mask = true_labels == class_index\n",
    "        \n",
    "        # Calculate accuracy for the current class\n",
    "        class_accuracies[class_index] = accuracy_score(true_labels[class_mask], pred_labels[class_mask])\n",
    "    \n",
    "    return class_accuracies\n",
    "\n",
    "def permutation_importance_per_class(model, X_val, y_val, n_repeats=10, n_samples=None):\n",
    "    n_samples = n_samples if n_samples is not None else X_val.shape[0]\n",
    "    random_indices = np.random.choice(X_val.shape[0], size=n_samples, replace=False)\n",
    "    X_val_subset = X_val[random_indices]\n",
    "    y_val_subset = y_val[random_indices]\n",
    "    \n",
    "    # Get baseline class-specific accuracies\n",
    "    baseline_predictions = model.predict(X_val_subset)\n",
    "    baseline_class_accuracies = calculate_class_accuracies(baseline_predictions, y_val_subset)\n",
    "    \n",
    "    # Prepare storage for importances, using a dictionary to accommodate variable class presence\n",
    "    feature_importances = {class_index: np.zeros((X_val.shape[2], n_repeats)) for class_index in baseline_class_accuracies.keys()}\n",
    "    \n",
    "    for feature_index in tqdm(range(X_val.shape[2]), desc='Calculating Feature Importance'):\n",
    "        for n in range(n_repeats):\n",
    "            saved_feature = X_val_subset[:, :, feature_index].copy()\n",
    "            np.random.shuffle(X_val_subset[:, :, feature_index])\n",
    "            \n",
    "            permuted_predictions = model.predict(X_val_subset)\n",
    "            permuted_class_accuracies = calculate_class_accuracies(permuted_predictions, y_val_subset)\n",
    "            \n",
    "            for class_index in baseline_class_accuracies.keys():\n",
    "                feature_importances[class_index][feature_index, n] = baseline_class_accuracies[class_index] - permuted_class_accuracies.get(class_index, 0)\n",
    "            \n",
    "            X_val_subset[:, :, feature_index] = saved_feature\n",
    "    \n",
    "    # Average the importance scores across repeats and prepare formatted output\n",
    "    average_importances = {class_index: importances.mean(axis=1) for class_index, importances in feature_importances.items()}\n",
    "    \n",
    "    # Format the output\n",
    "    formatted_importances = {f\"Class {class_index}\": importance.tolist() for class_index, importance in average_importances.items()}\n",
    "    return formatted_importances\n",
    "\n",
    "# Example usage\n",
    "n_samples = 500 if X_val_fold.shape[0] > 1000 else X_val_fold.shape[0]\n",
    "class_importances = permutation_importance_per_class(model, X_val_fold, y_val_fold, n_repeats=4, n_samples=n_samples)\n",
    "\n",
    "for class_id, importances in class_importances.items():\n",
    "    print(f\"{class_id} Feature Importances:\", importances)\n"
   ]
  }
 ],
 "metadata": {
  "kernelspec": {
   "display_name": "ltn",
   "language": "python",
   "name": "python3"
  },
  "language_info": {
   "codemirror_mode": {
    "name": "ipython",
    "version": 3
   },
   "file_extension": ".py",
   "mimetype": "text/x-python",
   "name": "python",
   "nbconvert_exporter": "python",
   "pygments_lexer": "ipython3",
   "version": "3.10.0"
  }
 },
 "nbformat": 4,
 "nbformat_minor": 2
}
