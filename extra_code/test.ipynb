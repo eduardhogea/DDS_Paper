{
 "cells": [
  {
   "cell_type": "code",
   "execution_count": 3,
   "metadata": {},
   "outputs": [
    {
     "name": "stdout",
     "output_type": "stream",
     "text": [
      "(1705041,)\n"
     ]
    }
   ],
   "source": [
    "import pickle\n",
    "\n",
    "# Path to your pickle file\n",
    "pkl_file_path = '/home/ubuntu/dds_paper/DDS_Paper/data/DDS_Data_SEU/data/csvs/sequences/train_merged_labels.pkl'\n",
    "\n",
    "# Load the pickle file\n",
    "with open(pkl_file_path, 'rb') as file:\n",
    "    data = pickle.load(file)\n",
    "\n",
    "# Print the shape of the loaded data\n",
    "try:\n",
    "    print(data.shape)\n",
    "except AttributeError:\n",
    "    print(\"Loaded data does not have a 'shape' attribute. The type of the loaded data is:\", type(data))\n"
   ]
  }
 ],
 "metadata": {
  "kernelspec": {
   "display_name": "ltn",
   "language": "python",
   "name": "python3"
  },
  "language_info": {
   "codemirror_mode": {
    "name": "ipython",
    "version": 3
   },
   "file_extension": ".py",
   "mimetype": "text/x-python",
   "name": "python",
   "nbconvert_exporter": "python",
   "pygments_lexer": "ipython3",
   "version": "3.10.0"
  }
 },
 "nbformat": 4,
 "nbformat_minor": 2
}
