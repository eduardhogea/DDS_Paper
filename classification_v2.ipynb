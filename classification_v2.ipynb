{
 "cells": [
  {
   "cell_type": "code",
   "execution_count": 2,
   "metadata": {},
   "outputs": [],
   "source": [
    "import pandas as pd\n",
    "import numpy as np\n",
    "import os\n",
    "from sklearn.model_selection import train_test_split\n",
    "from sklearn.preprocessing import LabelEncoder\n",
    "from tqdm import tqdm\n",
    "import os\n",
    "import pandas as pd\n",
    "import numpy as np\n",
    "from sklearn.model_selection import train_test_split\n",
    "import csv\n",
    "import pandas as pd\n",
    "import matplotlib.pyplot as plt\n",
    "import seaborn as sns\n",
    "\n",
    "dataset_path = 'DDS_Data_SEU'"
   ]
  },
  {
   "cell_type": "code",
   "execution_count": 2,
   "metadata": {},
   "outputs": [],
   "source": [
    "def load_data_file(file_path):\n",
    "    data = pd.read_csv(file_path, sep='\\t')\n",
    "    return data\n",
    "\n",
    "def process_data_file(data_path, label):\n",
    "    data = load_data_file(data_path)\n",
    "    return data.values, label\n",
    "base_path = 'DDS_Data_SEU'\n",
    "categories = ['PGB', 'RGB']\n",
    "batch_size = 1\n",
    "data_files = []\n",
    "labels = []\n",
    "\n",
    "def process_files_to_csv(file_paths, output_file):\n",
    "    total_files = len(file_paths)\n",
    "    mininterval = (total_files * 0.1) / 1\n",
    "\n",
    "    with open(output_file, 'w', newline='') as csvfile:\n",
    "        csv_writer = csv.writer(csvfile)\n",
    "        csv_writer.writerow(['Channel1', 'Channel2', 'Channel3', 'Channel4', 'Channel5', 'Channel6', 'Channel7', 'Channel8', 'Type', 'Speed', 'Fault'])\n",
    "\n",
    "        for file_path in tqdm(file_paths, mininterval=mininterval):\n",
    "            type = os.path.basename(os.path.dirname(os.path.dirname(file_path)))\n",
    "            speed = os.path.basename(os.path.dirname(file_path))\n",
    "            if speed == 'Variable speed':\n",
    "                speed = 'var_speed'\n",
    "            else:\n",
    "                speed = speed.replace('Hz-', '_').replace('Hz', '')\n",
    "            fault = os.path.basename(file_path).split('_')[0]\n",
    "\n",
    "            data = pd.read_csv(file_path, sep='\\t', encoding='ISO-8859-1')\n",
    "            reshaped_data = data.values[:, :]\n",
    "            for row_data in reshaped_data:\n",
    "                row = row_data.tolist() + [type, speed, fault]\n",
    "                csv_writer.writerow(row)\n",
    "\n"
   ]
  },
  {
   "cell_type": "code",
   "execution_count": 3,
   "metadata": {},
   "outputs": [
    {
     "name": "stdout",
     "output_type": "stream",
     "text": [
      "output.csv already exists. Skipping file processing.\n"
     ]
    }
   ],
   "source": [
    "import os\n",
    "import pandas as pd\n",
    "import numpy as np\n",
    "from tqdm import tqdm\n",
    "\n",
    "base_path = 'DDS_Data_SEU'\n",
    "categories = ['PGB', 'RGB']\n",
    "data_files = []\n",
    "output_file = 'output.csv'\n",
    "\n",
    "if not os.path.exists(output_file):\n",
    "    for category in categories:\n",
    "        category_path = os.path.join(base_path, category)\n",
    "\n",
    "        for root, dirs, files in os.walk(category_path):\n",
    "            for file in files:\n",
    "                if file.endswith('.txt'):\n",
    "                    file_path = os.path.join(root, file)\n",
    "                    data_files.append(file_path)\n",
    "\n",
    "    process_files_to_csv(data_files, 'output.csv')\n",
    "else:\n",
    "     print(f\"{output_file} already exists. Skipping file processing.\")\n",
    "\n",
    "\n"
   ]
  },
  {
   "attachments": {},
   "cell_type": "markdown",
   "metadata": {},
   "source": [
    "# Data preprocessing"
   ]
  },
  {
   "cell_type": "code",
   "execution_count": 26,
   "metadata": {},
   "outputs": [
    {
     "name": "stderr",
     "output_type": "stream",
     "text": [
      "Processing CSV: 7521chunk [07:21, 17.03chunk/s]         "
     ]
    },
    {
     "name": "stdout",
     "output_type": "stream",
     "text": [
      "Fault: 7Inner, Count: 80740352\n",
      "Fault: 4Surface, Count: 80740352\n",
      "Fault: 6Combination, Count: 89128960\n",
      "Fault: 1Chipped, Count: 84934656\n",
      "Fault: 2Miss, Count: 80740352\n",
      "Fault: 0Health, Count: 89391104\n",
      "Fault: 8Outer, Count: 40370176\n",
      "Fault: 3Root, Count: 84934656\n",
      "Fault: 5Ball, Count: 80740352\n",
      "Fault: 8Out, Count: 40370176\n"
     ]
    },
    {
     "name": "stderr",
     "output_type": "stream",
     "text": [
      "\n"
     ]
    }
   ],
   "source": [
    "import pandas as pd\n",
    "from tqdm import tqdm\n",
    "\n",
    "# Initialize a dictionary to store the fault counts\n",
    "fault_counts = {}\n",
    "\n",
    "# Specify the CSV file path\n",
    "csv_file = 'output.csv'\n",
    "\n",
    "# Set the chunk size for reading the CSV\n",
    "chunk_size = 100000  # Adjust the chunk size according to your memory limitations\n",
    "\n",
    "# Iterate through the CSV file using chunksize\n",
    "with tqdm(total=1, unit='chunk', desc='Processing CSV') as pbar:\n",
    "    for chunk in pd.read_csv(csv_file, chunksize=chunk_size):\n",
    "        # Assuming there is a column named 'fault' in the CSV representing the fault type\n",
    "        fault_column = 'Fault'\n",
    "\n",
    "        # Count the occurrences of each fault in the current chunk\n",
    "        fault_chunk_counts = chunk[fault_column].value_counts()\n",
    "\n",
    "        # Aggregate the counts with the overall fault_counts dictionary\n",
    "        for fault, count in fault_chunk_counts.items():\n",
    "            fault_counts[fault] = fault_counts.get(fault, 0) + count\n",
    "\n",
    "        pbar.update()\n",
    "\n",
    "# Print the fault counts\n",
    "for fault, count in fault_counts.items():\n",
    "    print(f\"Fault: {fault}, Count: {count}\")\n"
   ]
  },
  {
   "cell_type": "code",
   "execution_count": 31,
   "metadata": {},
   "outputs": [
    {
     "name": "stderr",
     "output_type": "stream",
     "text": [
      "Processing CSV: 753chunk [07:30,  1.67chunk/s]                  "
     ]
    },
    {
     "name": "stdout",
     "output_type": "stream",
     "text": [
      "Speed Counts:\n",
      "Speed: 50_0, Count: 75497472\n",
      "Speed: 40_0, Count: 75497472\n",
      "Speed: 30_4, Count: 75497472\n",
      "Speed: .ipynb_checkpoints, Count: 25427968\n",
      "Speed: 30_3, Count: 75497472\n",
      "Speed: 30_2, Count: 75497472\n",
      "Speed: 30_5, Count: 75497472\n",
      "Speed: Experiment1, Count: 2359296\n",
      "Speed: Experiment6, Count: 2359296\n",
      "Speed: Experiment8, Count: 2359296\n",
      "Speed: Experiment9, Count: 2359296\n",
      "Speed: Experiment10, Count: 2359296\n",
      "Speed: Experiment7, Count: 2359296\n",
      "Speed: Experiment5, Count: 2359296\n",
      "Speed: Experiment2, Count: 2359296\n",
      "Speed: Experiment3, Count: 2359296\n",
      "Speed: Experiment4, Count: 2359296\n",
      "Speed: 30_0, Count: 75497472\n",
      "Speed: 30_1, Count: 75497472\n",
      "Speed: 20_0, Count: 75497472\n",
      "Speed: Experiment_7, Count: 2359296\n",
      "Speed: Experiment_9, Count: 2359296\n",
      "Speed: Experiment_8, Count: 2359296\n",
      "Speed: Experiment_6, Count: 2359296\n",
      "Speed: Experiment_1, Count: 2359296\n",
      "Speed: Experiment_10, Count: 2359296\n",
      "Speed: Experiment_4, Count: 2359296\n",
      "Speed: Experiment_3, Count: 2359296\n",
      "Speed: Experiment_2, Count: 2359296\n",
      "Speed: Experiment_5, Count: 2359296\n",
      "Type Counts:\n",
      "Type: PGB, Count: 339738624\n",
      "Type: 30_4, Count: 4194304\n",
      "Type: Variable_speed, Count: 47185920\n",
      "Type: Experiment1, Count: 262144\n",
      "Type: 20_0, Count: 16777216\n",
      "Type: RGB, Count: 339738624\n",
      "Type: 40_0, Count: 4194304\n"
     ]
    },
    {
     "name": "stderr",
     "output_type": "stream",
     "text": [
      "\n"
     ]
    }
   ],
   "source": [
    "import pandas as pd\n",
    "from tqdm import tqdm\n",
    "\n",
    "# Initialize dictionaries to store the counts\n",
    "speed_counts = {}\n",
    "type_counts = {}\n",
    "\n",
    "# Specify the CSV file path\n",
    "csv_file = 'output.csv'\n",
    "\n",
    "# Set the chunk size for reading the CSV\n",
    "chunk_size = 1000000  # Adjust the chunk size according to your memory limitations\n",
    "\n",
    "# Iterate through the CSV file using chunksize\n",
    "with tqdm(total=1, unit='chunk', desc='Processing CSV') as pbar:\n",
    "    for chunk in pd.read_csv(csv_file, chunksize=chunk_size):\n",
    "        # Assuming there is a column named 'Speed' in the CSV representing the speed values\n",
    "        speed_column = 'Speed'\n",
    "\n",
    "        # Count the occurrences of each speed value in the current chunk\n",
    "        speed_chunk_counts = chunk[speed_column].value_counts()\n",
    "\n",
    "        # Aggregate the counts with the overall speed_counts dictionary\n",
    "        for speed, count in speed_chunk_counts.items():\n",
    "            speed_counts[speed] = speed_counts.get(speed, 0) + count\n",
    "\n",
    "        # Assuming there is a column named 'Type' in the CSV representing the types\n",
    "        type_column = 'Type'\n",
    "\n",
    "        # Count the occurrences of each type in the current chunk\n",
    "        type_chunk_counts = chunk[type_column].value_counts()\n",
    "\n",
    "        # Aggregate the counts with the overall type_counts dictionary\n",
    "        for typ, count in type_chunk_counts.items():\n",
    "            type_counts[typ] = type_counts.get(typ, 0) + count\n",
    "\n",
    "        pbar.update()\n",
    "\n",
    "# Print the speed counts\n",
    "print(\"Speed Counts:\")\n",
    "for speed, count in speed_counts.items():\n",
    "    print(f\"Speed: {speed}, Count: {count}\")\n",
    "\n",
    "# Print the type counts\n",
    "print(\"Type Counts:\")\n",
    "for typ, count in type_counts.items():\n",
    "    print(f\"Type: {typ}, Count: {count}\")\n"
   ]
  },
  {
   "cell_type": "code",
   "execution_count": null,
   "metadata": {},
   "outputs": [],
   "source": []
  }
 ],
 "metadata": {
  "kernelspec": {
   "display_name": "tensorflow",
   "language": "python",
   "name": "python3"
  },
  "language_info": {
   "codemirror_mode": {
    "name": "ipython",
    "version": 3
   },
   "file_extension": ".py",
   "mimetype": "text/x-python",
   "name": "python",
   "nbconvert_exporter": "python",
   "pygments_lexer": "ipython3",
   "version": "3.9.7"
  },
  "orig_nbformat": 4
 },
 "nbformat": 4,
 "nbformat_minor": 2
}
