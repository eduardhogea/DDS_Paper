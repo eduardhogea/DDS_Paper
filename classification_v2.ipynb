{
 "cells": [
  {
   "cell_type": "code",
   "execution_count": 1,
   "metadata": {},
   "outputs": [],
   "source": [
    "import pandas as pd\n",
    "import numpy as np\n",
    "import os\n",
    "from sklearn.model_selection import train_test_split\n",
    "from sklearn.preprocessing import LabelEncoder\n",
    "from tqdm import tqdm\n",
    "import os\n",
    "import pandas as pd\n",
    "import numpy as np\n",
    "from sklearn.model_selection import train_test_split\n",
    "import csv\n",
    "import pandas as pd\n",
    "import matplotlib.pyplot as plt\n",
    "import seaborn as sns\n",
    "\n"
   ]
  },
  {
   "cell_type": "code",
   "execution_count": 2,
   "metadata": {},
   "outputs": [],
   "source": [
    "def load_data_file(file_path):\n",
    "    data = pd.read_csv(file_path, sep='\\t')\n",
    "    return data\n",
    "\n",
    "def process_data_file(data_path, label):\n",
    "    data = load_data_file(data_path)\n",
    "    return data.values, label\n",
    "base_path = 'DDS_Data_SEU'\n",
    "categories = ['PGB', 'RGB']\n",
    "batch_size = 1\n",
    "data_files = []\n",
    "labels = []\n",
    "\n",
    "def process_files_to_csv(file_paths, output_file):\n",
    "    total_files = len(file_paths)\n",
    "    mininterval = (total_files * 0.1) / 1\n",
    "\n",
    "    with open(output_file, 'w', newline='') as csvfile:\n",
    "        csv_writer = csv.writer(csvfile)\n",
    "        csv_writer.writerow(['Channel1', 'Channel2', 'Channel3', 'Channel4', 'Channel5', 'Channel6', 'Channel7', 'Channel8', 'Type', 'Speed', 'Fault'])\n",
    "\n",
    "        for file_path in tqdm(file_paths, mininterval=mininterval):\n",
    "            type = os.path.basename(os.path.dirname(os.path.dirname(file_path)))\n",
    "            speed = os.path.basename(os.path.dirname(file_path))\n",
    "            if speed == 'Variable speed':\n",
    "                speed = 'var_speed'\n",
    "            else:\n",
    "                speed = speed.replace('Hz-', '_').replace('Hz', '')\n",
    "            fault = os.path.basename(file_path).split('_')[0]\n",
    "\n",
    "            data = pd.read_csv(file_path, sep='\\t', encoding='ISO-8859-1')\n",
    "            reshaped_data = data.values[:, :]\n",
    "            for row_data in reshaped_data:\n",
    "                row = row_data.tolist() + [type, speed, fault]\n",
    "                csv_writer.writerow(row)\n",
    "\n"
   ]
  },
  {
   "cell_type": "code",
   "execution_count": 3,
   "metadata": {},
   "outputs": [
    {
     "name": "stdout",
     "output_type": "stream",
     "text": [
      "output.csv already exists. Skipping file processing.\n"
     ]
    }
   ],
   "source": [
    "import os\n",
    "import pandas as pd\n",
    "import numpy as np\n",
    "from tqdm import tqdm\n",
    "\n",
    "base_path = 'DDS_Data_SEU'\n",
    "categories = ['PGB', 'RGB']\n",
    "data_files = []\n",
    "output_file = 'output.csv'\n",
    "\n",
    "if not os.path.exists(output_file):\n",
    "    for category in categories:\n",
    "        category_path = os.path.join(base_path, category)\n",
    "\n",
    "        for root, dirs, files in os.walk(category_path):\n",
    "            for file in files:\n",
    "                if file.endswith('.txt'):\n",
    "                    file_path = os.path.join(root, file)\n",
    "                    data_files.append(file_path)\n",
    "\n",
    "    process_files_to_csv(data_files, 'output.csv')\n",
    "else:\n",
    "     print(f\"{output_file} already exists. Skipping file processing.\")\n",
    "\n",
    "\n"
   ]
  },
  {
   "attachments": {},
   "cell_type": "markdown",
   "metadata": {},
   "source": [
    "# Data preprocessing"
   ]
  },
  {
   "cell_type": "code",
   "execution_count": 1,
   "metadata": {},
   "outputs": [
    {
     "ename": "",
     "evalue": "",
     "output_type": "error",
     "traceback": [
      "\u001b[1;31mThe Kernel crashed while executing code in the the current cell or a previous cell. Please review the code in the cell(s) to identify a possible cause of the failure. Click <a href='https://aka.ms/vscodeJupyterKernelCrash'>here</a> for more info. View Jupyter <a href='command:jupyter.viewOutput'>log</a> for further details."
     ]
    },
    {
     "ename": "",
     "evalue": "",
     "output_type": "error",
     "traceback": [
      "\u001b[1;31mCanceled future for execute_request message before replies were done"
     ]
    }
   ],
   "source": [
    "import pandas as pd\n",
    "import matplotlib.pyplot as plt\n",
    "import os\n",
    "\n",
    "# Define the path to the dataset folder\n",
    "dataset_path = 'DDS_Data_SEU'\n",
    "\n",
    "# Define the folders to analyze\n",
    "folders_to_analyze = [\n",
    "    'RGB/50_0',\n",
    "    'RGB/40_0',\n",
    "    'RGB/30_4',\n",
    "    'PGB/50_0',\n",
    "    'PGB/40_0',\n",
    "    'PGB/30_4',\n",
    "]\n",
    "\n",
    "# Initialize a list to hold the data for each channel\n",
    "channel_data = []\n",
    "\n",
    "# Iterate over the folders and collect the data for each channel\n",
    "for folder in folders_to_analyze:\n",
    "    folder_path = os.path.join(dataset_path, folder)\n",
    "    files = os.listdir(folder_path)\n",
    "\n",
    "    # Filter out any directories within the folder\n",
    "    files = [file for file in files if not os.path.isdir(os.path.join(folder_path, file))]\n",
    "\n",
    "    for file in files:\n",
    "        file_path = os.path.join(folder_path, file)\n",
    "        data = pd.read_csv(file_path, sep='\\t')\n",
    "        channel_data.extend(data.iloc[:, 1:].values)  # Append data for each channel\n",
    "\n",
    "# Determine the channels dynamically based on the number of columns\n",
    "channels_to_plot = [f'Channel{i+1}' for i in range(data.shape[1]-1)]\n",
    "\n",
    "# Generate box plots for each channel\n",
    "plt.figure(figsize=(10, 6))\n",
    "plt.boxplot(channel_data, labels=channels_to_plot)\n",
    "plt.xlabel('Channel')\n",
    "plt.ylabel('Amplitude')\n",
    "plt.title('Distribution of Vibration Data')\n",
    "plt.show()\n"
   ]
  },
  {
   "cell_type": "code",
   "execution_count": null,
   "metadata": {},
   "outputs": [],
   "source": []
  },
  {
   "cell_type": "code",
   "execution_count": null,
   "metadata": {},
   "outputs": [],
   "source": []
  },
  {
   "cell_type": "code",
   "execution_count": null,
   "metadata": {},
   "outputs": [],
   "source": []
  }
 ],
 "metadata": {
  "kernelspec": {
   "display_name": "tensorflow",
   "language": "python",
   "name": "python3"
  },
  "language_info": {
   "codemirror_mode": {
    "name": "ipython",
    "version": 3
   },
   "file_extension": ".py",
   "mimetype": "text/x-python",
   "name": "python",
   "nbconvert_exporter": "python",
   "pygments_lexer": "ipython3",
   "version": "3.9.7"
  },
  "orig_nbformat": 4
 },
 "nbformat": 4,
 "nbformat_minor": 2
}
