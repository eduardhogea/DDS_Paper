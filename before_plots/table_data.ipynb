{
 "cells": [
  {
   "cell_type": "code",
   "execution_count": 3,
   "metadata": {},
   "outputs": [],
   "source": [
    "import pandas as pd\n",
    "\n",
    "# Load the CSV files\n",
    "lstm_results = pd.read_csv('/content/cf3_results.csv')\n",
    "ltn_results = pd.read_csv('/content/cf3_results_ltn.csv')\n",
    "\n",
    "# Find the maximum validation accuracy in LSTM results grouped by speed and fold\n",
    "lstm_max_accuracy = lstm_results.groupby(['Speed', 'Fold'])['Validation Accuracy'].max().reset_index()\n",
    "\n",
    "# Find the maximum test accuracy in LTN results grouped by speed and fold\n",
    "ltn_max_accuracy = ltn_results.groupby(['Speed', 'Fold'])['test_accuracy'].max().reset_index()\n",
    "\n",
    "# Aggregate again by speed to find the maximum across folds\n",
    "lstm_best_accuracy = lstm_max_accuracy.groupby('Speed')['Validation Accuracy'].max()\n",
    "ltn_best_accuracy = ltn_max_accuracy.groupby('Speed')['test_accuracy'].max()\n",
    "\n",
    "# Combine the results into a single DataFrame for easier comparison\n",
    "accuracy_comparison = pd.DataFrame({\n",
    "    'Speed': lstm_best_accuracy.index,\n",
    "    'LSTM Best Validation Accuracy': lstm_best_accuracy.values,\n",
    "    'LTN Best Test Accuracy': ltn_best_accuracy.values\n",
    "})\n",
    "\n",
    "# Display the DataFrame\n",
    "print(accuracy_comparison)\n"
   ]
  }
 ],
 "metadata": {
  "kernelspec": {
   "display_name": "Python 3 (ipykernel)",
   "language": "python",
   "name": "python3"
  }
 },
 "nbformat": 4,
 "nbformat_minor": 2
}
