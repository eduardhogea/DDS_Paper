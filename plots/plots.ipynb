{
 "cells": [
  {
   "cell_type": "code",
   "execution_count": null,
   "metadata": {},
   "outputs": [],
   "source": [
    "import pandas as pd\n",
    "import matplotlib.pyplot as plt\n",
    "\n",
    "# Load the data\n",
    "cf1_results = pd.read_csv('/content/cf1_results.csv')\n",
    "cf1_results_ltn = pd.read_csv('/content/cf1_results_ltn.csv')\n",
    "\n",
    "# Calculate the last epoch of the normal model\n",
    "last_normal_epoch = cf1_results['Epoch'].max()\n",
    "\n",
    "# Adjust the LTN model epochs to start right after the last epoch of the normal model\n",
    "cf1_results_ltn['Adjusted Epoch'] = cf1_results_ltn['Epoch'] + last_normal_epoch\n",
    "\n",
    "# Group by Epoch and calculate mean accuracy for the normal model\n",
    "avg_cf1_results = cf1_results.groupby('Epoch').agg({'Validation Accuracy': 'mean'}).reset_index()\n",
    "\n",
    "# Find the maximum test accuracy for each fold and speed in the LTN model\n",
    "max_accuracy_per_fold_speed = cf1_results_ltn.groupby(['Fold', 'Speed', 'Adjusted Epoch']).agg({'test_accuracy': 'max'}).reset_index()\n",
    "\n",
    "# Calculate the mean of these maximum accuracies for each adjusted epoch\n",
    "avg_max_accuracy_per_epoch = max_accuracy_per_fold_speed.groupby('Adjusted Epoch').agg({'test_accuracy': 'mean'}).reset_index()\n",
    "\n",
    "# Combine averaged data for a continuous plot\n",
    "combined_avg_results = pd.concat([\n",
    "    avg_cf1_results.rename(columns={'Validation Accuracy': 'Accuracy', 'Epoch': 'Extended Epoch'}),\n",
    "    avg_max_accuracy_per_epoch.rename(columns={'test_accuracy': 'Accuracy', 'Adjusted Epoch': 'Extended Epoch'})\n",
    "])\n",
    "\n",
    "# Plotting\n",
    "plt.figure(figsize=(14, 8))\n",
    "plt.plot(combined_avg_results['Extended Epoch'], combined_avg_results['Accuracy'], label='Average Model Accuracy', marker='o')\n",
    "plt.title('Average Model Accuracy Across Extended Epochs')\n",
    "plt.xlabel('Extended Epoch (Normal + LTN)')\n",
    "plt.ylabel('Average Test Accuracy')\n",
    "plt.axvline(x=last_normal_epoch, color='r', linestyle='--', label='Start of LTN Model')\n",
    "plt.legend()\n",
    "plt.grid(True)\n",
    "plt.show()\n"
   ]
  }
 ],
 "metadata": {
  "kernelspec": {
   "display_name": "Python 3 (ipykernel)",
   "language": "python",
   "name": "python3"
  }
 },
 "nbformat": 4,
 "nbformat_minor": 2
}
